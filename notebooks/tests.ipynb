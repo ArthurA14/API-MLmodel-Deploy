{
 "cells": [
  {
   "cell_type": "code",
   "execution_count": 1,
   "metadata": {},
   "outputs": [],
   "source": [
    "import numpy as np\n",
    "import pandas as pd \n",
    "from sklearn.model_selection import train_test_split\n",
    "from sklearn.datasets import load_iris # load_data\n",
    "# import utils"
   ]
  },
  {
   "cell_type": "code",
   "execution_count": 2,
   "metadata": {},
   "outputs": [],
   "source": [
    "# setting the seed to control the randomness\n",
    "np.random.seed(40)"
   ]
  },
  {
   "cell_type": "code",
   "execution_count": 3,
   "metadata": {},
   "outputs": [],
   "source": [
    "try :\n",
    "    # get data\n",
    "    iris = load_iris() # checking the data\n",
    "    X = iris.data\n",
    "    y = iris.target\n",
    "except Exception as e :\n",
    "    print(\"Unable to download training & test CSV. Error: %s\", e)"
   ]
  },
  {
   "cell_type": "code",
   "execution_count": 4,
   "metadata": {},
   "outputs": [],
   "source": [
    "def get_data(path) :\n",
    "    \"\"\"\n",
    "    Helper to extract data from a csv file\n",
    "    \n",
    "    Args: \n",
    "        path to the csv file\n",
    "    \n",
    "    Returns:\n",
    "        pd.DataFrame\n",
    "    \"\"\"\n",
    "    return pd.read_csv(path, sep=\",\", header='infer')\n",
    "\n",
    "\n",
    "def write_data(path, df) : \n",
    "    \"\"\"\n",
    "    Helper which writes a dataframe to csv\n",
    "    \n",
    "    Args: \n",
    "        Path: path to the csv file\n",
    "        pd.DataFrame: dataframe to save as a csv file\n",
    "    \n",
    "    Returns:\n",
    "        CSV file\n",
    "    \"\"\"\n",
    "    return df.to_csv(path, sep=\",\", index=False, header=True)\n",
    "\n",
    "\n",
    "def numpy_array_to_pandas_df(array) :\n",
    "    \"\"\"\n",
    "    An helper function which transform np.ndarray into pd.dataframe\n",
    "    \n",
    "    Args: \n",
    "        np.ndarray: any numpy.ndarray\n",
    "    \n",
    "    Returns:\n",
    "        pd.DataFrame: the transformed array into a dataframe\n",
    "    \"\"\"\n",
    "    return pd.DataFrame(array, columns = ['sepal_l','sepal_w','petal_l', 'petal_w'])\n",
    "\n",
    "\n",
    "def numpy_array_to_pandas_df_(array) :\n",
    "    \"\"\"\n",
    "    An helper function which transform np.ndarray into pd.dataframe\n",
    "    \n",
    "    Args: \n",
    "        np.ndarray: any numpy.ndarray\n",
    "    \n",
    "    Returns:\n",
    "        pd.DataFrame: the transformed array into a dataframe\n",
    "    \"\"\"\n",
    "    return pd.DataFrame(array, columns = ['target'])\n",
    "\n",
    "\n",
    "def drop_column_with_nan(df) :\n",
    "    \"\"\"\n",
    "    An helper function which drop columns with a too large amount of nan values\n",
    "    \n",
    "    Args: \n",
    "        pd.DataFrame: any dataset\n",
    "    \n",
    "    Returns:\n",
    "        pd.DataFrame: the same dataset stripped of these columns\n",
    "    \"\"\"\n",
    "\n",
    "    mask = df.isnull().any(axis=0) # a columns list with missing data\n",
    "    columns_with_nan  = df.columns[mask]\n",
    "    for column in columns_with_nan :\n",
    "        if df[column].isnull().sum() / df.shape[0] > 0.60:\n",
    "            df.drop(column, 1, inplace=True)\n",
    "\n",
    "    return df"
   ]
  },
  {
   "cell_type": "code",
   "execution_count": 5,
   "metadata": {},
   "outputs": [],
   "source": [
    "def data_prep(X, y) :\n",
    "    \"\"\"\n",
    "    Function to preprocess data\n",
    "    \n",
    "    Args: \n",
    "        pd.DataFrame of train raw and test raw\n",
    "    \n",
    "    Returns:\n",
    "        pd.DataFrame of train and test pre processed\n",
    "    \"\"\"  \n",
    "\n",
    "    # Splitting the data into training and test sets. (0.80, 0.20) split.\n",
    "    # random_state is a random number generator, to get the same splits, run after run\n",
    "    X_train, X_test, y_train, y_test = train_test_split(X, y, test_size=0.20, random_state=14)\n",
    "\n",
    "    y_train = y_train.reshape(y_train.shape[0], 1)\n",
    "    y_test = y_test.reshape(y_test.shape[0], 1)\n",
    "\n",
    "    print('Train set:', X_train.shape, y_train.shape)\n",
    "    print('Test set:', X_test.shape, y_test.shape)\n",
    "\n",
    "\n",
    "    ############################ TRANSFORM NP.NDARRAY INTO PD.DATAFRAME #########################\n",
    "\n",
    "    X_train = numpy_array_to_pandas_df(X_train)\n",
    "    y_train = numpy_array_to_pandas_df_(y_train)\n",
    "    X_test = numpy_array_to_pandas_df(X_test)\n",
    "    y_test = numpy_array_to_pandas_df_(y_test)\n",
    "\n",
    "\n",
    "    ############################ DROP COLUMNS CONTAINING TOO MUCH NAN VALUES #########################\n",
    "\n",
    "    X_train = drop_column_with_nan(X_train)\n",
    "    y_train = drop_column_with_nan(y_train)\n",
    "    X_test = drop_column_with_nan(X_test)\n",
    "    y_test = drop_column_with_nan(y_test)\n",
    "\n",
    "\n",
    "    ################## RECORDING OF THE NEW DATAFRAMES IN A HARD COPY ##################\n",
    "\n",
    "    X_TRAIN_PATH = r'..\\\\data\\\\X_train.csv'\n",
    "    write_data(X_TRAIN_PATH, X_train)\n",
    "\n",
    "    Y_TRAIN_PATH = r'..\\\\data\\\\y_train.csv'\n",
    "    write_data(Y_TRAIN_PATH, y_train)\n",
    "\n",
    "    X_TEST_PATH = r'..\\\\data\\\\X_test.csv'\n",
    "    write_data(X_TEST_PATH, X_test)\n",
    "\n",
    "    Y_TEST_PATH = r'..\\\\data\\\\y_test.csv'\n",
    "    write_data(Y_TEST_PATH, y_test)\n",
    "\n",
    "\n",
    "    return X_train, y_train, X_test, y_test"
   ]
  },
  {
   "cell_type": "code",
   "execution_count": 6,
   "metadata": {},
   "outputs": [
    {
     "name": "stdout",
     "output_type": "stream",
     "text": [
      "Train set: (120, 4) (120, 1)\n",
      "Test set: (30, 4) (30, 1)\n"
     ]
    }
   ],
   "source": [
    "# if __name__ == \"__main__\" :\n",
    "X_train, y_train, X_test, y_test = data_prep(X, y)"
   ]
  },
  {
   "cell_type": "code",
   "execution_count": 7,
   "metadata": {},
   "outputs": [
    {
     "data": {
      "text/plain": [
       "pandas.core.frame.DataFrame"
      ]
     },
     "execution_count": 7,
     "metadata": {},
     "output_type": "execute_result"
    }
   ],
   "source": [
    "type(X_train)"
   ]
  },
  {
   "cell_type": "code",
   "execution_count": 27,
   "metadata": {},
   "outputs": [],
   "source": [
    "# X_train = X_train.to_numpy()"
   ]
  },
  {
   "cell_type": "code",
   "execution_count": 28,
   "metadata": {},
   "outputs": [],
   "source": [
    "# type(X_train)"
   ]
  },
  {
   "cell_type": "code",
   "execution_count": 29,
   "metadata": {},
   "outputs": [],
   "source": [
    "# import os\n",
    "# # Path\n",
    "# path = \"C:\\\\Users\\\\arthu\\\\Efrei\\\\M2\\\\APPLICATIONS_OF_BIG_DATA_2\\\\projet\\\\data\\\\\"\n",
    "# # Path of Start directory\n",
    "# start = \"C:\\\\Users\\\\arthu\\\\Efrei\\\\M2\\\\APPLICATIONS_OF_BIG_DATA_2\\\\projet\\\\\"\n",
    "# # Compute the relative file path\n",
    "# # to the given path from the \n",
    "# # the given start directory.\n",
    "# relative_path = os.path.relpath(path, start)\n",
    "# # Print the relative file path\n",
    "# # to the given path from the \n",
    "# # the given start directory.\n",
    "# print(relative_path)"
   ]
  },
  {
   "cell_type": "code",
   "execution_count": 8,
   "metadata": {},
   "outputs": [
    {
     "data": {
      "text/plain": [
       "'C:\\\\Users\\\\arthu\\\\Efrei\\\\M2\\\\APPLICATIONS_OF_BIG_DATA_2\\\\projet\\\\data'"
      ]
     },
     "execution_count": 8,
     "metadata": {},
     "output_type": "execute_result"
    }
   ],
   "source": [
    "from pathlib import Path\n",
    "relative_path = Path(\"C:\\\\Users\\\\arthu\\\\Efrei\\\\M2\\\\APPLICATIONS_OF_BIG_DATA_2\\\\projet\\\\data\\\\\").resolve()\n",
    "str(relative_path)"
   ]
  },
  {
   "cell_type": "code",
   "execution_count": 11,
   "metadata": {},
   "outputs": [],
   "source": [
    "X_TRAIN_PATH = str(relative_path) + r'\\\\X_train.csv'\n",
    "write_data(X_TRAIN_PATH, X_train)"
   ]
  },
  {
   "cell_type": "code",
   "execution_count": 10,
   "metadata": {},
   "outputs": [
    {
     "name": "stdout",
     "output_type": "stream",
     "text": [
      "C:\\Users\\arthu\\Efrei\\M2\\APPLICATIONS_OF_BIG_DATA_2\\projet\\data\\\\X_train.csv\n"
     ]
    }
   ],
   "source": [
    "print(X_TRAIN_PATH)"
   ]
  },
  {
   "cell_type": "code",
   "execution_count": 12,
   "metadata": {},
   "outputs": [],
   "source": [
    "Y_TRAIN_PATH = r'..\\\\data\\\\y_train.csv'"
   ]
  },
  {
   "cell_type": "code",
   "execution_count": 13,
   "metadata": {},
   "outputs": [
    {
     "name": "stdout",
     "output_type": "stream",
     "text": [
      "<class 'pandas.core.frame.DataFrame'>\n"
     ]
    }
   ],
   "source": [
    "X_train = get_data(X_TRAIN_PATH)\n",
    "print(type(X_train))"
   ]
  },
  {
   "cell_type": "code",
   "execution_count": 14,
   "metadata": {},
   "outputs": [
    {
     "name": "stdout",
     "output_type": "stream",
     "text": [
      "<class 'numpy.ndarray'>\n"
     ]
    }
   ],
   "source": [
    "X_train = get_data(X_TRAIN_PATH).to_numpy()\n",
    "print(type(X_train))"
   ]
  },
  {
   "cell_type": "code",
   "execution_count": 15,
   "metadata": {},
   "outputs": [],
   "source": [
    "X_TEST_PATH = r'../data/X_test.csv'"
   ]
  },
  {
   "cell_type": "code",
   "execution_count": 16,
   "metadata": {},
   "outputs": [
    {
     "name": "stdout",
     "output_type": "stream",
     "text": [
      "<class 'pandas.core.frame.DataFrame'>\n"
     ]
    }
   ],
   "source": [
    "X_test_ = get_data(X_TEST_PATH)\n",
    "print(type(X_test_))"
   ]
  },
  {
   "cell_type": "code",
   "execution_count": 17,
   "metadata": {},
   "outputs": [],
   "source": [
    "from sklearn.neighbors import KNeighborsClassifier\n",
    "from sklearn.preprocessing import StandardScaler\n",
    "from sklearn.impute import SimpleImputer\n",
    "from sklearn.metrics import f1_score, accuracy_score\n",
    "import joblib\n",
    "import os\n",
    "# import files.utils as utils\n",
    "\n",
    "\n",
    "def select_best_n_neighbors(X_train, X_test, y_train, y_test, model, n_neighbors) :\n",
    "    # Instantiating and fitting the model\n",
    "    model = KNeighborsClassifier(n_neighbors)\n",
    "    model.fit(X_train, y_train)\n",
    "    # get predictions based on X_test set\n",
    "    y_pred = model.predict(X_test)\n",
    "\n",
    "    # get metrics\n",
    "    best_f1score = f1_score(y_test, y_pred, average='macro')\n",
    "    best_acc = accuracy_score(y_test, y_pred) # best_acc = model.score(X_test, y_test)\n",
    "\n",
    "    # Find the optimistic solutions on K-values\n",
    "    k_range = range(1, 30)\n",
    "    scores_list = []\n",
    "\n",
    "    for k in k_range :\n",
    "        model = KNeighborsClassifier(n_neighbors=k)\n",
    "        model.fit(X_train, y_train)\n",
    "        y_pred = model.predict(X_test)\n",
    "\n",
    "        f1score = f1_score(y_test, y_pred, average='macro')\n",
    "        accuracy = accuracy_score(y_test, y_pred) # accuracy = model.score(X_test, y_test)\n",
    "        scores_list.append(accuracy)\n",
    "\n",
    "        # Finding the best k-value best on best accuracy value\n",
    "        if best_acc < accuracy :\n",
    "            n_neighbors = k\n",
    "            best_f1score = f1score\n",
    "            best_acc = accuracy\n",
    "            best_model = model\n",
    "    max_ = max(scores_list) # best_acc\n",
    "\n",
    "    return n_neighbors, best_f1score, best_acc, best_model, scores_list\n",
    "\n",
    "\n",
    "def train_model(X_TRAIN_PATH, Y_TRAIN_PATH, X_TEST_PATH, Y_TEST_PATH) :\n",
    "\n",
    "    try :\n",
    "        # get data\n",
    "        X_train = get_data(X_TRAIN_PATH).to_numpy() # from pd.DataFrame to np.ndarray\n",
    "        y_train = get_data(Y_TRAIN_PATH).to_numpy()\n",
    "        X_test = get_data(X_TEST_PATH).to_numpy()\n",
    "        y_test = get_data(Y_TEST_PATH).to_numpy()\n",
    "    except Exception as e :\n",
    "        print(\"Unable to download training & test CSV. Error: %s\", e)\n",
    "\n",
    "    # imputation\n",
    "    imputer = SimpleImputer(strategy='median')\n",
    "    imputer.fit(X_train) \n",
    "    X_train = imputer.transform(X_train)\n",
    "    X_test = imputer.transform(X_test)\n",
    "    # saving fitted imputer\n",
    "    if not os.path.exists(\"../files/data\") :\n",
    "        os.makedirs(\"../files/data\")\n",
    "    joblib.dump(imputer, \"../files/data/imputer.save\") \n",
    "\n",
    "    # scaling\n",
    "    scaler = StandardScaler()\n",
    "    scaler.fit(X_test)\n",
    "    X_train = scaler.transform(X_train)\n",
    "    X_test = scaler.transform(X_test)\n",
    "    # saving fitted scaler\n",
    "    joblib.dump(scaler, \"../files/data/std_scaler.save\")\n",
    "\n",
    "    model = KNeighborsClassifier(n_neighbors=1)\n",
    "    n_neighbors, best_f1score, best_acc, best_model, scores_list = select_best_n_neighbors(X_train, X_test, y_train, y_test, model, n_neighbors=1)\n",
    "\n",
    "    print('f1_score: ', best_f1score, 'accuracy_score: ', best_acc)\n",
    "\n",
    "    joblib.dump(best_model, \"../files/data/best_model.save\") \n",
    "\n",
    "    return n_neighbors, best_f1score, best_acc, best_model, scores_list"
   ]
  },
  {
   "cell_type": "code",
   "execution_count": 18,
   "metadata": {},
   "outputs": [
    {
     "name": "stdout",
     "output_type": "stream",
     "text": [
      "f1_score:  0.9568151147098516 accuracy_score:  0.9666666666666667\n",
      "model :  KNeighborsClassifier(n_neighbors=2)\n"
     ]
    },
    {
     "name": "stderr",
     "output_type": "stream",
     "text": [
      "c:\\Users\\arthu\\AppData\\Local\\Programs\\Python\\Python39\\lib\\site-packages\\sklearn\\neighbors\\_classification.py:179: DataConversionWarning: A column-vector y was passed when a 1d array was expected. Please change the shape of y to (n_samples,), for example using ravel().\n",
      "  return self._fit(X, y)\n",
      "c:\\Users\\arthu\\AppData\\Local\\Programs\\Python\\Python39\\lib\\site-packages\\sklearn\\neighbors\\_classification.py:179: DataConversionWarning: A column-vector y was passed when a 1d array was expected. Please change the shape of y to (n_samples,), for example using ravel().\n",
      "  return self._fit(X, y)\n",
      "c:\\Users\\arthu\\AppData\\Local\\Programs\\Python\\Python39\\lib\\site-packages\\sklearn\\neighbors\\_classification.py:179: DataConversionWarning: A column-vector y was passed when a 1d array was expected. Please change the shape of y to (n_samples,), for example using ravel().\n",
      "  return self._fit(X, y)\n",
      "c:\\Users\\arthu\\AppData\\Local\\Programs\\Python\\Python39\\lib\\site-packages\\sklearn\\neighbors\\_classification.py:179: DataConversionWarning: A column-vector y was passed when a 1d array was expected. Please change the shape of y to (n_samples,), for example using ravel().\n",
      "  return self._fit(X, y)\n",
      "c:\\Users\\arthu\\AppData\\Local\\Programs\\Python\\Python39\\lib\\site-packages\\sklearn\\neighbors\\_classification.py:179: DataConversionWarning: A column-vector y was passed when a 1d array was expected. Please change the shape of y to (n_samples,), for example using ravel().\n",
      "  return self._fit(X, y)\n",
      "c:\\Users\\arthu\\AppData\\Local\\Programs\\Python\\Python39\\lib\\site-packages\\sklearn\\neighbors\\_classification.py:179: DataConversionWarning: A column-vector y was passed when a 1d array was expected. Please change the shape of y to (n_samples,), for example using ravel().\n",
      "  return self._fit(X, y)\n",
      "c:\\Users\\arthu\\AppData\\Local\\Programs\\Python\\Python39\\lib\\site-packages\\sklearn\\neighbors\\_classification.py:179: DataConversionWarning: A column-vector y was passed when a 1d array was expected. Please change the shape of y to (n_samples,), for example using ravel().\n",
      "  return self._fit(X, y)\n",
      "c:\\Users\\arthu\\AppData\\Local\\Programs\\Python\\Python39\\lib\\site-packages\\sklearn\\neighbors\\_classification.py:179: DataConversionWarning: A column-vector y was passed when a 1d array was expected. Please change the shape of y to (n_samples,), for example using ravel().\n",
      "  return self._fit(X, y)\n",
      "c:\\Users\\arthu\\AppData\\Local\\Programs\\Python\\Python39\\lib\\site-packages\\sklearn\\neighbors\\_classification.py:179: DataConversionWarning: A column-vector y was passed when a 1d array was expected. Please change the shape of y to (n_samples,), for example using ravel().\n",
      "  return self._fit(X, y)\n",
      "c:\\Users\\arthu\\AppData\\Local\\Programs\\Python\\Python39\\lib\\site-packages\\sklearn\\neighbors\\_classification.py:179: DataConversionWarning: A column-vector y was passed when a 1d array was expected. Please change the shape of y to (n_samples,), for example using ravel().\n",
      "  return self._fit(X, y)\n",
      "c:\\Users\\arthu\\AppData\\Local\\Programs\\Python\\Python39\\lib\\site-packages\\sklearn\\neighbors\\_classification.py:179: DataConversionWarning: A column-vector y was passed when a 1d array was expected. Please change the shape of y to (n_samples,), for example using ravel().\n",
      "  return self._fit(X, y)\n",
      "c:\\Users\\arthu\\AppData\\Local\\Programs\\Python\\Python39\\lib\\site-packages\\sklearn\\neighbors\\_classification.py:179: DataConversionWarning: A column-vector y was passed when a 1d array was expected. Please change the shape of y to (n_samples,), for example using ravel().\n",
      "  return self._fit(X, y)\n",
      "c:\\Users\\arthu\\AppData\\Local\\Programs\\Python\\Python39\\lib\\site-packages\\sklearn\\neighbors\\_classification.py:179: DataConversionWarning: A column-vector y was passed when a 1d array was expected. Please change the shape of y to (n_samples,), for example using ravel().\n",
      "  return self._fit(X, y)\n",
      "c:\\Users\\arthu\\AppData\\Local\\Programs\\Python\\Python39\\lib\\site-packages\\sklearn\\neighbors\\_classification.py:179: DataConversionWarning: A column-vector y was passed when a 1d array was expected. Please change the shape of y to (n_samples,), for example using ravel().\n",
      "  return self._fit(X, y)\n",
      "c:\\Users\\arthu\\AppData\\Local\\Programs\\Python\\Python39\\lib\\site-packages\\sklearn\\neighbors\\_classification.py:179: DataConversionWarning: A column-vector y was passed when a 1d array was expected. Please change the shape of y to (n_samples,), for example using ravel().\n",
      "  return self._fit(X, y)\n",
      "c:\\Users\\arthu\\AppData\\Local\\Programs\\Python\\Python39\\lib\\site-packages\\sklearn\\neighbors\\_classification.py:179: DataConversionWarning: A column-vector y was passed when a 1d array was expected. Please change the shape of y to (n_samples,), for example using ravel().\n",
      "  return self._fit(X, y)\n",
      "c:\\Users\\arthu\\AppData\\Local\\Programs\\Python\\Python39\\lib\\site-packages\\sklearn\\neighbors\\_classification.py:179: DataConversionWarning: A column-vector y was passed when a 1d array was expected. Please change the shape of y to (n_samples,), for example using ravel().\n",
      "  return self._fit(X, y)\n",
      "c:\\Users\\arthu\\AppData\\Local\\Programs\\Python\\Python39\\lib\\site-packages\\sklearn\\neighbors\\_classification.py:179: DataConversionWarning: A column-vector y was passed when a 1d array was expected. Please change the shape of y to (n_samples,), for example using ravel().\n",
      "  return self._fit(X, y)\n",
      "c:\\Users\\arthu\\AppData\\Local\\Programs\\Python\\Python39\\lib\\site-packages\\sklearn\\neighbors\\_classification.py:179: DataConversionWarning: A column-vector y was passed when a 1d array was expected. Please change the shape of y to (n_samples,), for example using ravel().\n",
      "  return self._fit(X, y)\n",
      "c:\\Users\\arthu\\AppData\\Local\\Programs\\Python\\Python39\\lib\\site-packages\\sklearn\\neighbors\\_classification.py:179: DataConversionWarning: A column-vector y was passed when a 1d array was expected. Please change the shape of y to (n_samples,), for example using ravel().\n",
      "  return self._fit(X, y)\n",
      "c:\\Users\\arthu\\AppData\\Local\\Programs\\Python\\Python39\\lib\\site-packages\\sklearn\\neighbors\\_classification.py:179: DataConversionWarning: A column-vector y was passed when a 1d array was expected. Please change the shape of y to (n_samples,), for example using ravel().\n",
      "  return self._fit(X, y)\n",
      "c:\\Users\\arthu\\AppData\\Local\\Programs\\Python\\Python39\\lib\\site-packages\\sklearn\\neighbors\\_classification.py:179: DataConversionWarning: A column-vector y was passed when a 1d array was expected. Please change the shape of y to (n_samples,), for example using ravel().\n",
      "  return self._fit(X, y)\n",
      "c:\\Users\\arthu\\AppData\\Local\\Programs\\Python\\Python39\\lib\\site-packages\\sklearn\\neighbors\\_classification.py:179: DataConversionWarning: A column-vector y was passed when a 1d array was expected. Please change the shape of y to (n_samples,), for example using ravel().\n",
      "  return self._fit(X, y)\n",
      "c:\\Users\\arthu\\AppData\\Local\\Programs\\Python\\Python39\\lib\\site-packages\\sklearn\\neighbors\\_classification.py:179: DataConversionWarning: A column-vector y was passed when a 1d array was expected. Please change the shape of y to (n_samples,), for example using ravel().\n",
      "  return self._fit(X, y)\n",
      "c:\\Users\\arthu\\AppData\\Local\\Programs\\Python\\Python39\\lib\\site-packages\\sklearn\\neighbors\\_classification.py:179: DataConversionWarning: A column-vector y was passed when a 1d array was expected. Please change the shape of y to (n_samples,), for example using ravel().\n",
      "  return self._fit(X, y)\n",
      "c:\\Users\\arthu\\AppData\\Local\\Programs\\Python\\Python39\\lib\\site-packages\\sklearn\\neighbors\\_classification.py:179: DataConversionWarning: A column-vector y was passed when a 1d array was expected. Please change the shape of y to (n_samples,), for example using ravel().\n",
      "  return self._fit(X, y)\n",
      "c:\\Users\\arthu\\AppData\\Local\\Programs\\Python\\Python39\\lib\\site-packages\\sklearn\\neighbors\\_classification.py:179: DataConversionWarning: A column-vector y was passed when a 1d array was expected. Please change the shape of y to (n_samples,), for example using ravel().\n",
      "  return self._fit(X, y)\n",
      "c:\\Users\\arthu\\AppData\\Local\\Programs\\Python\\Python39\\lib\\site-packages\\sklearn\\neighbors\\_classification.py:179: DataConversionWarning: A column-vector y was passed when a 1d array was expected. Please change the shape of y to (n_samples,), for example using ravel().\n",
      "  return self._fit(X, y)\n",
      "c:\\Users\\arthu\\AppData\\Local\\Programs\\Python\\Python39\\lib\\site-packages\\sklearn\\neighbors\\_classification.py:179: DataConversionWarning: A column-vector y was passed when a 1d array was expected. Please change the shape of y to (n_samples,), for example using ravel().\n",
      "  return self._fit(X, y)\n",
      "c:\\Users\\arthu\\AppData\\Local\\Programs\\Python\\Python39\\lib\\site-packages\\sklearn\\neighbors\\_classification.py:179: DataConversionWarning: A column-vector y was passed when a 1d array was expected. Please change the shape of y to (n_samples,), for example using ravel().\n",
      "  return self._fit(X, y)\n"
     ]
    }
   ],
   "source": [
    "X_TRAIN_PATH = r'..\\\\data\\\\X_train.csv'\n",
    "Y_TRAIN_PATH = r'..\\\\data\\\\y_train.csv'\n",
    "X_TEST_PATH = r'..\\\\data\\\\X_test.csv'\n",
    "Y_TEST_PATH = r'..\\\\data\\\\y_test.csv'\n",
    "\n",
    "# type(train_model(X_TRAIN_PATH, Y_TRAIN_PATH, X_TEST_PATH, Y_TEST_PATH)) # tuple\n",
    "\n",
    "print(\"model : \", train_model(X_TRAIN_PATH, Y_TRAIN_PATH, X_TEST_PATH, Y_TEST_PATH)[3])"
   ]
  },
  {
   "cell_type": "code",
   "execution_count": 19,
   "metadata": {},
   "outputs": [],
   "source": [
    "def predict_(data: pd.DataFrame) :\n",
    "    \"\"\"\n",
    "    Helper to make predictions on data\n",
    "    \n",
    "    Args: \n",
    "        pd.DataFrame of given features to perform prediction on\n",
    "    \n",
    "    Returns:\n",
    "        np.array with model predictions\n",
    "    \"\"\"\n",
    "\n",
    "    # Load model as a PyFuncModel\n",
    "    loaded_model = joblib.load('../files/data/best_model.save')\n",
    "\n",
    "    # load necessary trained artefacts\n",
    "    imputer = joblib.load('../files/data/imputer.save') \n",
    "    scaler = joblib.load('../files/data/std_scaler.save') \n",
    "    data = imputer.transform(data)\n",
    "    data = scaler.transform(data)\n",
    "\n",
    "    return loaded_model.predict(data)\n",
    "\n",
    "\n",
    "def predict_model(X_TEST_PATH) :\n",
    "\n",
    "    Y_TEST_PATH = r'../data/y_test.csv'\n",
    "\n",
    "    try :\n",
    "        # get data\n",
    "        X_test_ = get_data(X_TEST_PATH)\n",
    "        X_test = get_data(X_TEST_PATH).to_numpy()\n",
    "        y_test = get_data(Y_TEST_PATH).to_numpy()\n",
    "    except Exception as e :\n",
    "        print(\"Unable to download training & test CSV. Error: %s\", e)\n",
    "\n",
    "    y_pred = predict_(X_test) # y_pred = loaded_model.predict(X_test)\n",
    "    y_pred = y_pred.reshape(y_pred.shape[0], 1)\n",
    "\n",
    "    # Create the dataframe from numpy.ndarray\n",
    "    X_test_df = pd.DataFrame(X_test, columns=list(X_test_.columns))\n",
    "    y_test_df = pd.DataFrame(y_test, columns=['target'])\n",
    "    y_pred_df = pd.DataFrame(y_pred, columns=['target_pred'])\n",
    "\n",
    "    # Add y_pred column to the X_test dataset\n",
    "    test_df = X_test_df.join(y_test_df).join(y_pred_df)\n",
    "\n",
    "    PATH = r'../data/final_test_df.csv'\n",
    "    write_data(PATH, test_df)\n",
    "\n",
    "    return y_pred"
   ]
  },
  {
   "cell_type": "code",
   "execution_count": 20,
   "metadata": {},
   "outputs": [
    {
     "name": "stdout",
     "output_type": "stream",
     "text": [
      "(150, 4)\n",
      "[3.5 3.  3.2 3.1 3.6 3.9 3.4 3.4 2.9 3.1 3.7 3.4 3.  3.  4.  4.4 3.9 3.5\n",
      " 3.8 3.8 3.4 3.7 3.6 3.3 3.4 3.  3.4 3.5 3.4 3.2 3.1 3.4 4.1 4.2 3.1 3.2\n",
      " 3.5 3.6 3.  3.4 3.5 2.3 3.2 3.5 3.8 3.  3.8 3.2 3.7 3.3 3.2 3.2 3.1 2.3\n",
      " 2.8 2.8 3.3 2.4 2.9 2.7 2.  3.  2.2 2.9 2.9 3.1 3.  2.7 2.2 2.5 3.2 2.8\n",
      " 2.5 2.8 2.9 3.  2.8 3.  2.9 2.6 2.4 2.4 2.7 2.7 3.  3.4 3.1 2.3 3.  2.5\n",
      " 2.6 3.  2.6 2.3 2.7 3.  2.9 2.9 2.5 2.8 3.3 2.7 3.  2.9 3.  3.  2.5 2.9\n",
      " 2.5 3.6 3.2 2.7 3.  2.5 2.8 3.2 3.  3.8 2.6 2.2 3.2 2.8 2.8 2.7 3.3 3.2\n",
      " 2.8 3.  2.8 3.  2.8 3.8 2.8 2.8 2.6 3.  3.4 3.1 3.  3.1 3.1 3.1 2.7 3.2\n",
      " 3.3 3.  2.5 3.  3.4 3. ]\n",
      "<class 'numpy.ndarray'>\n"
     ]
    }
   ],
   "source": [
    "print(X.shape)\n",
    "print(X[:, 1])\n",
    "print(type(X[:, 1]))"
   ]
  },
  {
   "cell_type": "code",
   "execution_count": 23,
   "metadata": {},
   "outputs": [
    {
     "name": "stdout",
     "output_type": "stream",
     "text": [
      "f1_score:  0.9568151147098516 accuracy_score:  0.9666666666666667\n",
      "<class 'numpy.ndarray'>\n",
      "(30, 1)\n"
     ]
    },
    {
     "name": "stderr",
     "output_type": "stream",
     "text": [
      "c:\\Users\\arthu\\AppData\\Local\\Programs\\Python\\Python39\\lib\\site-packages\\sklearn\\neighbors\\_classification.py:179: DataConversionWarning: A column-vector y was passed when a 1d array was expected. Please change the shape of y to (n_samples,), for example using ravel().\n",
      "  return self._fit(X, y)\n",
      "c:\\Users\\arthu\\AppData\\Local\\Programs\\Python\\Python39\\lib\\site-packages\\sklearn\\neighbors\\_classification.py:179: DataConversionWarning: A column-vector y was passed when a 1d array was expected. Please change the shape of y to (n_samples,), for example using ravel().\n",
      "  return self._fit(X, y)\n",
      "c:\\Users\\arthu\\AppData\\Local\\Programs\\Python\\Python39\\lib\\site-packages\\sklearn\\neighbors\\_classification.py:179: DataConversionWarning: A column-vector y was passed when a 1d array was expected. Please change the shape of y to (n_samples,), for example using ravel().\n",
      "  return self._fit(X, y)\n",
      "c:\\Users\\arthu\\AppData\\Local\\Programs\\Python\\Python39\\lib\\site-packages\\sklearn\\neighbors\\_classification.py:179: DataConversionWarning: A column-vector y was passed when a 1d array was expected. Please change the shape of y to (n_samples,), for example using ravel().\n",
      "  return self._fit(X, y)\n",
      "c:\\Users\\arthu\\AppData\\Local\\Programs\\Python\\Python39\\lib\\site-packages\\sklearn\\neighbors\\_classification.py:179: DataConversionWarning: A column-vector y was passed when a 1d array was expected. Please change the shape of y to (n_samples,), for example using ravel().\n",
      "  return self._fit(X, y)\n",
      "c:\\Users\\arthu\\AppData\\Local\\Programs\\Python\\Python39\\lib\\site-packages\\sklearn\\neighbors\\_classification.py:179: DataConversionWarning: A column-vector y was passed when a 1d array was expected. Please change the shape of y to (n_samples,), for example using ravel().\n",
      "  return self._fit(X, y)\n",
      "c:\\Users\\arthu\\AppData\\Local\\Programs\\Python\\Python39\\lib\\site-packages\\sklearn\\neighbors\\_classification.py:179: DataConversionWarning: A column-vector y was passed when a 1d array was expected. Please change the shape of y to (n_samples,), for example using ravel().\n",
      "  return self._fit(X, y)\n",
      "c:\\Users\\arthu\\AppData\\Local\\Programs\\Python\\Python39\\lib\\site-packages\\sklearn\\neighbors\\_classification.py:179: DataConversionWarning: A column-vector y was passed when a 1d array was expected. Please change the shape of y to (n_samples,), for example using ravel().\n",
      "  return self._fit(X, y)\n",
      "c:\\Users\\arthu\\AppData\\Local\\Programs\\Python\\Python39\\lib\\site-packages\\sklearn\\neighbors\\_classification.py:179: DataConversionWarning: A column-vector y was passed when a 1d array was expected. Please change the shape of y to (n_samples,), for example using ravel().\n",
      "  return self._fit(X, y)\n",
      "c:\\Users\\arthu\\AppData\\Local\\Programs\\Python\\Python39\\lib\\site-packages\\sklearn\\neighbors\\_classification.py:179: DataConversionWarning: A column-vector y was passed when a 1d array was expected. Please change the shape of y to (n_samples,), for example using ravel().\n",
      "  return self._fit(X, y)\n",
      "c:\\Users\\arthu\\AppData\\Local\\Programs\\Python\\Python39\\lib\\site-packages\\sklearn\\neighbors\\_classification.py:179: DataConversionWarning: A column-vector y was passed when a 1d array was expected. Please change the shape of y to (n_samples,), for example using ravel().\n",
      "  return self._fit(X, y)\n",
      "c:\\Users\\arthu\\AppData\\Local\\Programs\\Python\\Python39\\lib\\site-packages\\sklearn\\neighbors\\_classification.py:179: DataConversionWarning: A column-vector y was passed when a 1d array was expected. Please change the shape of y to (n_samples,), for example using ravel().\n",
      "  return self._fit(X, y)\n",
      "c:\\Users\\arthu\\AppData\\Local\\Programs\\Python\\Python39\\lib\\site-packages\\sklearn\\neighbors\\_classification.py:179: DataConversionWarning: A column-vector y was passed when a 1d array was expected. Please change the shape of y to (n_samples,), for example using ravel().\n",
      "  return self._fit(X, y)\n",
      "c:\\Users\\arthu\\AppData\\Local\\Programs\\Python\\Python39\\lib\\site-packages\\sklearn\\neighbors\\_classification.py:179: DataConversionWarning: A column-vector y was passed when a 1d array was expected. Please change the shape of y to (n_samples,), for example using ravel().\n",
      "  return self._fit(X, y)\n",
      "c:\\Users\\arthu\\AppData\\Local\\Programs\\Python\\Python39\\lib\\site-packages\\sklearn\\neighbors\\_classification.py:179: DataConversionWarning: A column-vector y was passed when a 1d array was expected. Please change the shape of y to (n_samples,), for example using ravel().\n",
      "  return self._fit(X, y)\n",
      "c:\\Users\\arthu\\AppData\\Local\\Programs\\Python\\Python39\\lib\\site-packages\\sklearn\\neighbors\\_classification.py:179: DataConversionWarning: A column-vector y was passed when a 1d array was expected. Please change the shape of y to (n_samples,), for example using ravel().\n",
      "  return self._fit(X, y)\n",
      "c:\\Users\\arthu\\AppData\\Local\\Programs\\Python\\Python39\\lib\\site-packages\\sklearn\\neighbors\\_classification.py:179: DataConversionWarning: A column-vector y was passed when a 1d array was expected. Please change the shape of y to (n_samples,), for example using ravel().\n",
      "  return self._fit(X, y)\n",
      "c:\\Users\\arthu\\AppData\\Local\\Programs\\Python\\Python39\\lib\\site-packages\\sklearn\\neighbors\\_classification.py:179: DataConversionWarning: A column-vector y was passed when a 1d array was expected. Please change the shape of y to (n_samples,), for example using ravel().\n",
      "  return self._fit(X, y)\n",
      "c:\\Users\\arthu\\AppData\\Local\\Programs\\Python\\Python39\\lib\\site-packages\\sklearn\\neighbors\\_classification.py:179: DataConversionWarning: A column-vector y was passed when a 1d array was expected. Please change the shape of y to (n_samples,), for example using ravel().\n",
      "  return self._fit(X, y)\n",
      "c:\\Users\\arthu\\AppData\\Local\\Programs\\Python\\Python39\\lib\\site-packages\\sklearn\\neighbors\\_classification.py:179: DataConversionWarning: A column-vector y was passed when a 1d array was expected. Please change the shape of y to (n_samples,), for example using ravel().\n",
      "  return self._fit(X, y)\n",
      "c:\\Users\\arthu\\AppData\\Local\\Programs\\Python\\Python39\\lib\\site-packages\\sklearn\\neighbors\\_classification.py:179: DataConversionWarning: A column-vector y was passed when a 1d array was expected. Please change the shape of y to (n_samples,), for example using ravel().\n",
      "  return self._fit(X, y)\n",
      "c:\\Users\\arthu\\AppData\\Local\\Programs\\Python\\Python39\\lib\\site-packages\\sklearn\\neighbors\\_classification.py:179: DataConversionWarning: A column-vector y was passed when a 1d array was expected. Please change the shape of y to (n_samples,), for example using ravel().\n",
      "  return self._fit(X, y)\n",
      "c:\\Users\\arthu\\AppData\\Local\\Programs\\Python\\Python39\\lib\\site-packages\\sklearn\\neighbors\\_classification.py:179: DataConversionWarning: A column-vector y was passed when a 1d array was expected. Please change the shape of y to (n_samples,), for example using ravel().\n",
      "  return self._fit(X, y)\n",
      "c:\\Users\\arthu\\AppData\\Local\\Programs\\Python\\Python39\\lib\\site-packages\\sklearn\\neighbors\\_classification.py:179: DataConversionWarning: A column-vector y was passed when a 1d array was expected. Please change the shape of y to (n_samples,), for example using ravel().\n",
      "  return self._fit(X, y)\n",
      "c:\\Users\\arthu\\AppData\\Local\\Programs\\Python\\Python39\\lib\\site-packages\\sklearn\\neighbors\\_classification.py:179: DataConversionWarning: A column-vector y was passed when a 1d array was expected. Please change the shape of y to (n_samples,), for example using ravel().\n",
      "  return self._fit(X, y)\n",
      "c:\\Users\\arthu\\AppData\\Local\\Programs\\Python\\Python39\\lib\\site-packages\\sklearn\\neighbors\\_classification.py:179: DataConversionWarning: A column-vector y was passed when a 1d array was expected. Please change the shape of y to (n_samples,), for example using ravel().\n",
      "  return self._fit(X, y)\n",
      "c:\\Users\\arthu\\AppData\\Local\\Programs\\Python\\Python39\\lib\\site-packages\\sklearn\\neighbors\\_classification.py:179: DataConversionWarning: A column-vector y was passed when a 1d array was expected. Please change the shape of y to (n_samples,), for example using ravel().\n",
      "  return self._fit(X, y)\n",
      "c:\\Users\\arthu\\AppData\\Local\\Programs\\Python\\Python39\\lib\\site-packages\\sklearn\\neighbors\\_classification.py:179: DataConversionWarning: A column-vector y was passed when a 1d array was expected. Please change the shape of y to (n_samples,), for example using ravel().\n",
      "  return self._fit(X, y)\n",
      "c:\\Users\\arthu\\AppData\\Local\\Programs\\Python\\Python39\\lib\\site-packages\\sklearn\\neighbors\\_classification.py:179: DataConversionWarning: A column-vector y was passed when a 1d array was expected. Please change the shape of y to (n_samples,), for example using ravel().\n",
      "  return self._fit(X, y)\n",
      "c:\\Users\\arthu\\AppData\\Local\\Programs\\Python\\Python39\\lib\\site-packages\\sklearn\\neighbors\\_classification.py:179: DataConversionWarning: A column-vector y was passed when a 1d array was expected. Please change the shape of y to (n_samples,), for example using ravel().\n",
      "  return self._fit(X, y)\n"
     ]
    }
   ],
   "source": [
    "X_TEST_PATH = r'..\\\\data\\\\X_test.csv'\n",
    "Y_TEST_PATH = r'..\\\\data\\\\y_test.csv'\n",
    "\n",
    "model = train_model(X_TRAIN_PATH, Y_TRAIN_PATH, X_TEST_PATH, Y_TEST_PATH)[3] # best_model\n",
    "\n",
    "prediction = predict_model(X_TEST_PATH)\n",
    "\n",
    "print(type(prediction))\n",
    "print(prediction.shape)"
   ]
  },
  {
   "cell_type": "code",
   "execution_count": 176,
   "metadata": {},
   "outputs": [
    {
     "data": {
      "text/plain": [
       "array([0, 0, 0, 0, 0, 0, 0, 0, 0, 0, 0, 0, 0, 0, 0, 0, 0, 0, 0, 0, 0, 0,\n",
       "       0, 0, 0, 0, 0, 0, 0, 0], dtype=int64)"
      ]
     },
     "execution_count": 176,
     "metadata": {},
     "output_type": "execute_result"
    }
   ],
   "source": [
    "np.argmax(prediction, axis=1)"
   ]
  },
  {
   "cell_type": "code",
   "execution_count": 177,
   "metadata": {},
   "outputs": [],
   "source": [
    "iris_type = {\n",
    "    0: 'setosa',\n",
    "    1: 'versicolor',\n",
    "    2: 'virginica'\n",
    "}"
   ]
  },
  {
   "cell_type": "code",
   "execution_count": 181,
   "metadata": {},
   "outputs": [
    {
     "name": "stdout",
     "output_type": "stream",
     "text": [
      "setosa\n",
      "0\n"
     ]
    }
   ],
   "source": [
    "print(iris_type[np.argmax(prediction, axis=1)[0]])\n",
    "print(round(max(prediction[0]), 2))"
   ]
  },
  {
   "cell_type": "code",
   "execution_count": 69,
   "metadata": {},
   "outputs": [],
   "source": [
    "from sklearn.linear_model import LogisticRegression\n",
    "model_ = LogisticRegression(solver='lbfgs',\n",
    "                                  max_iter=1000,\n",
    "                                  multi_class='multinomial').fit(X, y)\n",
    "\n",
    "# X = [iris.sepal_l, iris.sepal_w, iris.petal_l, iris.petal_w]\n",
    "\n",
    "# prediction_ = model_.predict_proba([X])"
   ]
  },
  {
   "cell_type": "code",
   "execution_count": 70,
   "metadata": {},
   "outputs": [],
   "source": [
    "predictions = model_.predict_proba(X)"
   ]
  },
  {
   "cell_type": "code",
   "execution_count": 75,
   "metadata": {},
   "outputs": [
    {
     "name": "stdout",
     "output_type": "stream",
     "text": [
      "<class 'numpy.ndarray'>\n",
      "(150, 3)\n"
     ]
    }
   ],
   "source": [
    "print(type(predictions))\n",
    "print(predictions.shape)"
   ]
  },
  {
   "cell_type": "code",
   "execution_count": 82,
   "metadata": {},
   "outputs": [
    {
     "data": {
      "text/plain": [
       "array([9.81586270e-01, 1.84137160e-02, 1.44952498e-08])"
      ]
     },
     "execution_count": 82,
     "metadata": {},
     "output_type": "execute_result"
    }
   ],
   "source": [
    "predictions[0]"
   ]
  },
  {
   "cell_type": "code",
   "execution_count": 100,
   "metadata": {},
   "outputs": [],
   "source": [
    "# k = 0\n",
    "# for i in range(0, predictions.shape[0]) :\n",
    "#     print(round(max(predictions[i]), 2))\n",
    "#     k += 1 \n",
    "# print(k)"
   ]
  },
  {
   "cell_type": "code",
   "execution_count": 90,
   "metadata": {},
   "outputs": [
    {
     "data": {
      "text/plain": [
       "array([[9.81586270e-01, 1.84137160e-02, 1.44952498e-08],\n",
       "       [9.71342443e-01, 2.86575273e-02, 3.01759334e-08],\n",
       "       [9.85276921e-01, 1.47230670e-02, 1.23344424e-08],\n",
       "       [9.76068908e-01, 2.39310522e-02, 3.96885764e-08],\n",
       "       [9.85235946e-01, 1.47640416e-02, 1.20022712e-08],\n",
       "       [9.70222909e-01, 2.97770170e-02, 7.39945370e-08],\n",
       "       [9.86773895e-01, 1.32260855e-02, 1.99811002e-08],\n",
       "       [9.76152545e-01, 2.38474272e-02, 2.77242433e-08],\n",
       "       [9.79630763e-01, 2.03692060e-02, 3.05914361e-08],\n",
       "       [9.68775128e-01, 3.12248407e-02, 3.17113754e-08],\n",
       "       [9.76235893e-01, 2.37640872e-02, 1.93666164e-08],\n",
       "       [9.75215057e-01, 2.47848994e-02, 4.39453721e-08],\n",
       "       [9.74237245e-01, 2.57627331e-02, 2.15052010e-08],\n",
       "       [9.91874058e-01, 8.12593805e-03, 3.88890537e-09],\n",
       "       [9.88016551e-01, 1.19834461e-02, 2.84238572e-09],\n",
       "       [9.86651171e-01, 1.33488165e-02, 1.29388806e-08],\n",
       "       [9.87965448e-01, 1.20345423e-02, 9.26304311e-09],\n",
       "       [9.81336767e-01, 1.86632129e-02, 1.97683632e-08],\n",
       "       [9.56118430e-01, 4.38815010e-02, 6.89710385e-08],\n",
       "       [9.83982520e-01, 1.60174593e-02, 2.06376108e-08],\n",
       "       [9.46185791e-01, 5.38141225e-02, 8.68346702e-08],\n",
       "       [9.81573227e-01, 1.84267400e-02, 3.29966642e-08],\n",
       "       [9.95961216e-01, 4.03878297e-03, 1.31653614e-09],\n",
       "       [9.51852828e-01, 4.81469345e-02, 2.37252171e-07],\n",
       "       [9.51632964e-01, 4.83668297e-02, 2.06547231e-07],\n",
       "       [9.50989672e-01, 4.90102413e-02, 8.69313462e-08],\n",
       "       [9.69335192e-01, 3.06647218e-02, 8.65178793e-08],\n",
       "       [9.74650094e-01, 2.53498810e-02, 2.50772071e-08],\n",
       "       [9.77055403e-01, 2.29445799e-02, 1.74900263e-08],\n",
       "       [9.70983561e-01, 2.90163806e-02, 5.85477542e-08],\n",
       "       [9.63939644e-01, 3.60602853e-02, 7.04566918e-08],\n",
       "       [9.64480738e-01, 3.55192040e-02, 5.77514668e-08],\n",
       "       [9.88297606e-01, 1.17023870e-02, 7.08505869e-09],\n",
       "       [9.88959783e-01, 1.10402112e-02, 5.35245821e-09],\n",
       "       [9.68357631e-01, 3.16423263e-02, 4.32397616e-08],\n",
       "       [9.84438564e-01, 1.55614279e-02, 8.01370309e-09],\n",
       "       [9.78628469e-01, 2.13715209e-02, 9.69510798e-09],\n",
       "       [9.86746465e-01, 1.32535264e-02, 8.54120603e-09],\n",
       "       [9.85699149e-01, 1.43008358e-02, 1.55125393e-08],\n",
       "       [9.73818994e-01, 2.61809772e-02, 2.85347721e-08],\n",
       "       [9.86468753e-01, 1.35312352e-02, 1.14051964e-08],\n",
       "       [9.61636590e-01, 3.83633439e-02, 6.58412798e-08],\n",
       "       [9.88912163e-01, 1.10878257e-02, 1.12734401e-08],\n",
       "       [9.72210915e-01, 2.77889478e-02, 1.37430560e-07],\n",
       "       [9.60079754e-01, 3.99200221e-02, 2.23434875e-07],\n",
       "       [9.73539848e-01, 2.64601124e-02, 3.99892570e-08],\n",
       "       [9.80171764e-01, 1.98282105e-02, 2.54505904e-08],\n",
       "       [9.83180220e-01, 1.68197603e-02, 2.01474106e-08],\n",
       "       [9.78358810e-01, 2.16411710e-02, 1.88123470e-08],\n",
       "       [9.78418452e-01, 2.15815285e-02, 1.93333663e-08],\n",
       "       [2.12772771e-03, 8.73942534e-01, 1.23929739e-01],\n",
       "       [5.82093755e-03, 8.59709251e-01, 1.34469811e-01],\n",
       "       [1.06123835e-03, 7.25064219e-01, 2.73874543e-01],\n",
       "       [1.54091142e-02, 9.39716862e-01, 4.48740242e-02],\n",
       "       [2.37767567e-03, 8.15233922e-01, 1.82388403e-01],\n",
       "       [6.98788464e-03, 8.60129794e-01, 1.32882322e-01],\n",
       "       [3.77357965e-03, 7.16441149e-01, 2.79785271e-01],\n",
       "       [1.47723299e-01, 8.49223876e-01, 3.05282511e-03],\n",
       "       [2.77834907e-03, 8.96654797e-01, 1.00566853e-01],\n",
       "       [4.14687946e-02, 9.11921849e-01, 4.66093561e-02],\n",
       "       [5.57723601e-02, 9.37764200e-01, 6.46344043e-03],\n",
       "       [1.51809483e-02, 8.98826152e-01, 8.59928998e-02],\n",
       "       [9.08818534e-03, 9.76592608e-01, 1.43192064e-02],\n",
       "       [3.05128575e-03, 7.79270676e-01, 2.17678038e-01],\n",
       "       [7.44353691e-02, 9.15114654e-01, 1.04499768e-02],\n",
       "       [5.28426826e-03, 9.26345885e-01, 6.83698465e-02],\n",
       "       [8.71940940e-03, 7.74647176e-01, 2.16633415e-01],\n",
       "       [1.64451250e-02, 9.65195823e-01, 1.83590524e-02],\n",
       "       [1.81080161e-03, 8.01131559e-01, 1.97057639e-01],\n",
       "       [2.39547376e-02, 9.59455763e-01, 1.65894990e-02],\n",
       "       [2.30779456e-03, 4.40042333e-01, 5.57649872e-01],\n",
       "       [1.68234947e-02, 9.56791386e-01, 2.63851197e-02],\n",
       "       [7.15605650e-04, 5.96375490e-01, 4.02908904e-01],\n",
       "       [3.04228000e-03, 8.59920046e-01, 1.37037674e-01],\n",
       "       [7.07643602e-03, 9.42961868e-01, 4.99616960e-02],\n",
       "       [5.07770823e-03, 9.20103064e-01, 7.48192275e-02],\n",
       "       [1.12034487e-03, 8.01564022e-01, 1.97315633e-01],\n",
       "       [5.78957622e-04, 4.81114189e-01, 5.18306854e-01],\n",
       "       [5.48557540e-03, 8.13089447e-01, 1.81424977e-01],\n",
       "       [6.16353139e-02, 9.34986885e-01, 3.37780147e-03],\n",
       "       [2.91305537e-02, 9.57265113e-01, 1.36043335e-02],\n",
       "       [3.71330011e-02, 9.55339441e-01, 7.52755813e-03],\n",
       "       [2.51684489e-02, 9.56499027e-01, 1.83325238e-02],\n",
       "       [4.49727409e-04, 3.49729285e-01, 6.49820988e-01],\n",
       "       [1.02354268e-02, 7.50853642e-01, 2.38910932e-01],\n",
       "       [9.99568676e-03, 7.88611714e-01, 2.01392600e-01],\n",
       "       [2.26539103e-03, 8.05152699e-01, 1.92581910e-01],\n",
       "       [2.76291272e-03, 9.13226511e-01, 8.40105763e-02],\n",
       "       [2.70646908e-02, 9.28511641e-01, 4.44236684e-02],\n",
       "       [1.99049384e-02, 9.38105783e-01, 4.19892782e-02],\n",
       "       [8.72055154e-03, 8.97919107e-01, 9.33603410e-02],\n",
       "       [4.64783188e-03, 8.28249568e-01, 1.67102600e-01],\n",
       "       [1.75713027e-02, 9.57032499e-01, 2.53961979e-02],\n",
       "       [1.21631593e-01, 8.75321400e-01, 3.04700638e-03],\n",
       "       [1.44679604e-02, 9.20480532e-01, 6.50515078e-02],\n",
       "       [1.99940551e-02, 9.38088961e-01, 4.19169842e-02],\n",
       "       [1.71032715e-02, 9.25426406e-01, 5.74703222e-02],\n",
       "       [8.49882733e-03, 9.35127896e-01, 5.63732769e-02],\n",
       "       [2.43427005e-01, 7.55282286e-01, 1.29070909e-03],\n",
       "       [1.91602551e-02, 9.36047115e-01, 4.47926302e-02],\n",
       "       [9.03649309e-07, 3.91130129e-03, 9.96087795e-01],\n",
       "       [2.42955389e-04, 1.62557780e-01, 8.37199264e-01],\n",
       "       [2.48290800e-06, 2.55677632e-02, 9.74429754e-01],\n",
       "       [3.12542770e-05, 8.16729211e-02, 9.18295825e-01],\n",
       "       [3.73781173e-06, 1.74370023e-02, 9.82559260e-01],\n",
       "       [5.53817895e-08, 4.63800450e-03, 9.95361940e-01],\n",
       "       [5.77425028e-03, 5.13757007e-01, 4.80468743e-01],\n",
       "       [6.22245260e-07, 2.13442624e-02, 9.78655115e-01],\n",
       "       [5.23219346e-06, 5.32972946e-02, 9.46697473e-01],\n",
       "       [6.54178627e-07, 5.73732610e-03, 9.94262020e-01],\n",
       "       [3.02212178e-04, 2.10384636e-01, 7.89313151e-01],\n",
       "       [7.27840406e-05, 1.37303284e-01, 8.62623932e-01],\n",
       "       [2.12753853e-05, 6.52433706e-02, 9.34735354e-01],\n",
       "       [2.29434795e-04, 1.45247952e-01, 8.54522613e-01],\n",
       "       [6.90396454e-05, 4.34903054e-02, 9.56440655e-01],\n",
       "       [5.16130189e-05, 5.40013473e-02, 9.45947040e-01],\n",
       "       [5.56477736e-05, 1.22882297e-01, 8.77062056e-01],\n",
       "       [8.47244357e-08, 3.55736963e-03, 9.96442546e-01],\n",
       "       [3.15405736e-09, 1.00040627e-03, 9.98999591e-01],\n",
       "       [3.89850578e-04, 4.52080645e-01, 5.47529504e-01],\n",
       "       [5.60178278e-06, 2.38348426e-02, 9.76159556e-01],\n",
       "       [6.13847909e-04, 1.90416567e-01, 8.08969585e-01],\n",
       "       [3.14081340e-08, 4.65471979e-03, 9.95345249e-01],\n",
       "       [5.85693107e-04, 3.93055511e-01, 6.06358796e-01],\n",
       "       [1.28395721e-05, 3.85828322e-02, 9.61404328e-01],\n",
       "       [4.86105153e-06, 5.14733073e-02, 9.48521832e-01],\n",
       "       [1.07270652e-03, 4.56442716e-01, 5.42484577e-01],\n",
       "       [1.02343085e-03, 3.85285077e-01, 6.13691492e-01],\n",
       "       [1.06588195e-05, 3.63322099e-02, 9.63657131e-01],\n",
       "       [1.69045424e-05, 1.41975030e-01, 8.58008066e-01],\n",
       "       [1.06461056e-06, 2.91979749e-02, 9.70800960e-01],\n",
       "       [7.03510588e-07, 1.74042918e-02, 9.82595005e-01],\n",
       "       [7.88725961e-06, 2.72561315e-02, 9.72735981e-01],\n",
       "       [5.29187056e-04, 4.75580026e-01, 5.23890787e-01],\n",
       "       [6.27442929e-05, 1.88645471e-01, 8.11291785e-01],\n",
       "       [3.93447664e-07, 1.17406831e-02, 9.88258923e-01],\n",
       "       [1.16226104e-05, 1.73134504e-02, 9.82674927e-01],\n",
       "       [6.77188849e-05, 1.19454735e-01, 8.80477546e-01],\n",
       "       [1.62157819e-03, 4.40298644e-01, 5.58079778e-01],\n",
       "       [3.96833773e-05, 9.34451371e-02, 9.06515180e-01],\n",
       "       [6.30547175e-06, 2.02780022e-02, 9.79715692e-01],\n",
       "       [9.96338942e-05, 1.20579797e-01, 8.79320569e-01],\n",
       "       [2.42955389e-04, 1.62557780e-01, 8.37199264e-01],\n",
       "       [2.04975859e-06, 1.25795727e-02, 9.87418378e-01],\n",
       "       [3.81010015e-06, 1.20948765e-02, 9.87901313e-01],\n",
       "       [5.59108178e-05, 8.00737919e-02, 9.19870297e-01],\n",
       "       [2.27131778e-04, 2.51927676e-01, 7.47845192e-01],\n",
       "       [1.38407308e-04, 1.57079646e-01, 8.42781947e-01],\n",
       "       [4.56494896e-05, 3.83986372e-02, 9.61555713e-01],\n",
       "       [4.75931037e-04, 2.34834063e-01, 7.64690006e-01]])"
      ]
     },
     "execution_count": 90,
     "metadata": {},
     "output_type": "execute_result"
    }
   ],
   "source": [
    "predictions"
   ]
  },
  {
   "cell_type": "code",
   "execution_count": 116,
   "metadata": {},
   "outputs": [
    {
     "name": "stdout",
     "output_type": "stream",
     "text": [
      "150\n",
      "<class 'numpy.ndarray'>\n",
      "[0.98 0.97 0.99 0.98 0.99 0.97 0.99 0.98 0.98 0.97 0.98 0.98 0.97 0.99\n",
      " 0.99 0.99 0.99 0.98 0.96 0.98 0.95 0.98 1.   0.95 0.95 0.95 0.97 0.97\n",
      " 0.98 0.97 0.96 0.96 0.99 0.99 0.97 0.98 0.98 0.99 0.99 0.97 0.99 0.96\n",
      " 0.99 0.97 0.96 0.97 0.98 0.98 0.98 0.98 0.87 0.86 0.73 0.94 0.82 0.86\n",
      " 0.72 0.85 0.9  0.91 0.94 0.9  0.98 0.78 0.92 0.93 0.77 0.97 0.8  0.96\n",
      " 0.56 0.96 0.6  0.86 0.94 0.92 0.8  0.52 0.81 0.93 0.96 0.96 0.96 0.65\n",
      " 0.75 0.79 0.81 0.91 0.93 0.94 0.9  0.83 0.96 0.88 0.92 0.94 0.93 0.94\n",
      " 0.76 0.94 1.   0.84 0.97 0.92 0.98 1.   0.51 0.98 0.95 0.99 0.79 0.86\n",
      " 0.93 0.85 0.96 0.95 0.88 1.   1.   0.55 0.98 0.81 1.   0.61 0.96 0.95\n",
      " 0.54 0.61 0.96 0.86 0.97 0.98 0.97 0.52 0.81 0.99 0.98 0.88 0.56 0.91\n",
      " 0.98 0.88 0.84 0.99 0.99 0.92 0.75 0.84 0.96 0.76]\n"
     ]
    }
   ],
   "source": [
    "# lst = list()\n",
    "# for i in range(0, predictions.shape[0]) :\n",
    "#     lst.append(round(max(predictions[i]), 2))\n",
    "\n",
    "# # converting list to array\n",
    "# arr = np.array(lst)\n",
    "\n",
    "# print(len(arr))\n",
    "# print(type(arr))\n",
    "# print(arr)"
   ]
  },
  {
   "cell_type": "code",
   "execution_count": 117,
   "metadata": {},
   "outputs": [
    {
     "name": "stdout",
     "output_type": "stream",
     "text": [
      "150\n",
      "<class 'numpy.ndarray'>\n",
      "[0.98 0.97 0.99 0.98 0.99 0.97 0.99 0.98 0.98 0.97 0.98 0.98 0.97 0.99\n",
      " 0.99 0.99 0.99 0.98 0.96 0.98 0.95 0.98 1.   0.95 0.95 0.95 0.97 0.97\n",
      " 0.98 0.97 0.96 0.96 0.99 0.99 0.97 0.98 0.98 0.99 0.99 0.97 0.99 0.96\n",
      " 0.99 0.97 0.96 0.97 0.98 0.98 0.98 0.98 0.87 0.86 0.73 0.94 0.82 0.86\n",
      " 0.72 0.85 0.9  0.91 0.94 0.9  0.98 0.78 0.92 0.93 0.77 0.97 0.8  0.96\n",
      " 0.56 0.96 0.6  0.86 0.94 0.92 0.8  0.52 0.81 0.93 0.96 0.96 0.96 0.65\n",
      " 0.75 0.79 0.81 0.91 0.93 0.94 0.9  0.83 0.96 0.88 0.92 0.94 0.93 0.94\n",
      " 0.76 0.94 1.   0.84 0.97 0.92 0.98 1.   0.51 0.98 0.95 0.99 0.79 0.86\n",
      " 0.93 0.85 0.96 0.95 0.88 1.   1.   0.55 0.98 0.81 1.   0.61 0.96 0.95\n",
      " 0.54 0.61 0.96 0.86 0.97 0.98 0.97 0.52 0.81 0.99 0.98 0.88 0.56 0.91\n",
      " 0.98 0.88 0.84 0.99 0.99 0.92 0.75 0.84 0.96 0.76]\n"
     ]
    }
   ],
   "source": [
    "arr = np.array([])\n",
    "for i in range(0, predictions.shape[0]) :\n",
    "    # Add/append an element at the end of a numpy array\n",
    "    arr = np.append(arr, round(max(predictions[i]), 2))\n",
    "\n",
    "print(len(arr))\n",
    "print(type(arr))\n",
    "print(arr)"
   ]
  },
  {
   "cell_type": "code",
   "execution_count": 143,
   "metadata": {},
   "outputs": [],
   "source": [
    "iris_type = {\n",
    "    0: 'setosa',\n",
    "    1: 'versicolor',\n",
    "    2: 'virginica'\n",
    "}"
   ]
  },
  {
   "cell_type": "code",
   "execution_count": 145,
   "metadata": {},
   "outputs": [
    {
     "name": "stdout",
     "output_type": "stream",
     "text": [
      "150\n",
      "<class 'numpy.ndarray'>\n",
      "[0 0 0 0 0 0 0 0 0 0 0 0 0 0 0 0 0 0 0 0 0 0 0 0 0 0 0 0 0 0 0 0 0 0 0 0 0\n",
      " 0 0 0 0 0 0 0 0 0 0 0 0 0 1 1 1 1 1 1 1 1 1 1 1 1 1 1 1 1 1 1 1 1 2 1 1 1\n",
      " 1 1 1 2 1 1 1 1 1 2 1 1 1 1 1 1 1 1 1 1 1 1 1 1 1 1 2 2 2 2 2 2 1 2 2 2 2\n",
      " 2 2 2 2 2 2 2 2 2 2 2 2 2 2 2 2 2 2 2 2 2 2 2 2 2 2 2 2 2 2 2 2 2 2 2 2 2\n",
      " 2 2]\n"
     ]
    }
   ],
   "source": [
    "print(len(np.argmax(predictions, axis=1)))\n",
    "print(type(np.argmax(predictions, axis=1)))\n",
    "print(np.argmax(predictions, axis=1))"
   ]
  },
  {
   "cell_type": "code",
   "execution_count": 135,
   "metadata": {},
   "outputs": [
    {
     "name": "stdout",
     "output_type": "stream",
     "text": [
      "virginica\n",
      "0.76\n"
     ]
    }
   ],
   "source": [
    "print(iris_type[np.argmax(predictions, axis=1)[149]])\n",
    "print(arr[149])"
   ]
  },
  {
   "cell_type": "code",
   "execution_count": 161,
   "metadata": {},
   "outputs": [
    {
     "data": {
      "text/plain": [
       "[{'class': 'setosa', 'probability': 0.98},\n",
       " {'class': 'setosa', 'probability': 0.97},\n",
       " {'class': 'setosa', 'probability': 0.99},\n",
       " {'class': 'setosa', 'probability': 0.98},\n",
       " {'class': 'setosa', 'probability': 0.99},\n",
       " {'class': 'setosa', 'probability': 0.97},\n",
       " {'class': 'setosa', 'probability': 0.99},\n",
       " {'class': 'setosa', 'probability': 0.98},\n",
       " {'class': 'setosa', 'probability': 0.98},\n",
       " {'class': 'setosa', 'probability': 0.97},\n",
       " {'class': 'setosa', 'probability': 0.98},\n",
       " {'class': 'setosa', 'probability': 0.98},\n",
       " {'class': 'setosa', 'probability': 0.97},\n",
       " {'class': 'setosa', 'probability': 0.99},\n",
       " {'class': 'setosa', 'probability': 0.99},\n",
       " {'class': 'setosa', 'probability': 0.99},\n",
       " {'class': 'setosa', 'probability': 0.99},\n",
       " {'class': 'setosa', 'probability': 0.98},\n",
       " {'class': 'setosa', 'probability': 0.96},\n",
       " {'class': 'setosa', 'probability': 0.98},\n",
       " {'class': 'setosa', 'probability': 0.95},\n",
       " {'class': 'setosa', 'probability': 0.98},\n",
       " {'class': 'setosa', 'probability': 1.0},\n",
       " {'class': 'setosa', 'probability': 0.95},\n",
       " {'class': 'setosa', 'probability': 0.95},\n",
       " {'class': 'setosa', 'probability': 0.95},\n",
       " {'class': 'setosa', 'probability': 0.97},\n",
       " {'class': 'setosa', 'probability': 0.97},\n",
       " {'class': 'setosa', 'probability': 0.98},\n",
       " {'class': 'setosa', 'probability': 0.97},\n",
       " {'class': 'setosa', 'probability': 0.96},\n",
       " {'class': 'setosa', 'probability': 0.96},\n",
       " {'class': 'setosa', 'probability': 0.99},\n",
       " {'class': 'setosa', 'probability': 0.99},\n",
       " {'class': 'setosa', 'probability': 0.97},\n",
       " {'class': 'setosa', 'probability': 0.98},\n",
       " {'class': 'setosa', 'probability': 0.98},\n",
       " {'class': 'setosa', 'probability': 0.99},\n",
       " {'class': 'setosa', 'probability': 0.99},\n",
       " {'class': 'setosa', 'probability': 0.97},\n",
       " {'class': 'setosa', 'probability': 0.99},\n",
       " {'class': 'setosa', 'probability': 0.96},\n",
       " {'class': 'setosa', 'probability': 0.99},\n",
       " {'class': 'setosa', 'probability': 0.97},\n",
       " {'class': 'setosa', 'probability': 0.96},\n",
       " {'class': 'setosa', 'probability': 0.97},\n",
       " {'class': 'setosa', 'probability': 0.98},\n",
       " {'class': 'setosa', 'probability': 0.98},\n",
       " {'class': 'setosa', 'probability': 0.98},\n",
       " {'class': 'setosa', 'probability': 0.98},\n",
       " {'class': 'versicolor', 'probability': 0.87},\n",
       " {'class': 'versicolor', 'probability': 0.86},\n",
       " {'class': 'versicolor', 'probability': 0.73},\n",
       " {'class': 'versicolor', 'probability': 0.94},\n",
       " {'class': 'versicolor', 'probability': 0.82},\n",
       " {'class': 'versicolor', 'probability': 0.86},\n",
       " {'class': 'versicolor', 'probability': 0.72},\n",
       " {'class': 'versicolor', 'probability': 0.85},\n",
       " {'class': 'versicolor', 'probability': 0.9},\n",
       " {'class': 'versicolor', 'probability': 0.91},\n",
       " {'class': 'versicolor', 'probability': 0.94},\n",
       " {'class': 'versicolor', 'probability': 0.9},\n",
       " {'class': 'versicolor', 'probability': 0.98},\n",
       " {'class': 'versicolor', 'probability': 0.78},\n",
       " {'class': 'versicolor', 'probability': 0.92},\n",
       " {'class': 'versicolor', 'probability': 0.93},\n",
       " {'class': 'versicolor', 'probability': 0.77},\n",
       " {'class': 'versicolor', 'probability': 0.97},\n",
       " {'class': 'versicolor', 'probability': 0.8},\n",
       " {'class': 'versicolor', 'probability': 0.96},\n",
       " {'class': 'virginica', 'probability': 0.56},\n",
       " {'class': 'versicolor', 'probability': 0.96},\n",
       " {'class': 'versicolor', 'probability': 0.6},\n",
       " {'class': 'versicolor', 'probability': 0.86},\n",
       " {'class': 'versicolor', 'probability': 0.94},\n",
       " {'class': 'versicolor', 'probability': 0.92},\n",
       " {'class': 'versicolor', 'probability': 0.8},\n",
       " {'class': 'virginica', 'probability': 0.52},\n",
       " {'class': 'versicolor', 'probability': 0.81},\n",
       " {'class': 'versicolor', 'probability': 0.93},\n",
       " {'class': 'versicolor', 'probability': 0.96},\n",
       " {'class': 'versicolor', 'probability': 0.96},\n",
       " {'class': 'versicolor', 'probability': 0.96},\n",
       " {'class': 'virginica', 'probability': 0.65},\n",
       " {'class': 'versicolor', 'probability': 0.75},\n",
       " {'class': 'versicolor', 'probability': 0.79},\n",
       " {'class': 'versicolor', 'probability': 0.81},\n",
       " {'class': 'versicolor', 'probability': 0.91},\n",
       " {'class': 'versicolor', 'probability': 0.93},\n",
       " {'class': 'versicolor', 'probability': 0.94},\n",
       " {'class': 'versicolor', 'probability': 0.9},\n",
       " {'class': 'versicolor', 'probability': 0.83},\n",
       " {'class': 'versicolor', 'probability': 0.96},\n",
       " {'class': 'versicolor', 'probability': 0.88},\n",
       " {'class': 'versicolor', 'probability': 0.92},\n",
       " {'class': 'versicolor', 'probability': 0.94},\n",
       " {'class': 'versicolor', 'probability': 0.93},\n",
       " {'class': 'versicolor', 'probability': 0.94},\n",
       " {'class': 'versicolor', 'probability': 0.76},\n",
       " {'class': 'versicolor', 'probability': 0.94},\n",
       " {'class': 'virginica', 'probability': 1.0},\n",
       " {'class': 'virginica', 'probability': 0.84},\n",
       " {'class': 'virginica', 'probability': 0.97},\n",
       " {'class': 'virginica', 'probability': 0.92},\n",
       " {'class': 'virginica', 'probability': 0.98},\n",
       " {'class': 'virginica', 'probability': 1.0},\n",
       " {'class': 'versicolor', 'probability': 0.51},\n",
       " {'class': 'virginica', 'probability': 0.98},\n",
       " {'class': 'virginica', 'probability': 0.95},\n",
       " {'class': 'virginica', 'probability': 0.99},\n",
       " {'class': 'virginica', 'probability': 0.79},\n",
       " {'class': 'virginica', 'probability': 0.86},\n",
       " {'class': 'virginica', 'probability': 0.93},\n",
       " {'class': 'virginica', 'probability': 0.85},\n",
       " {'class': 'virginica', 'probability': 0.96},\n",
       " {'class': 'virginica', 'probability': 0.95},\n",
       " {'class': 'virginica', 'probability': 0.88},\n",
       " {'class': 'virginica', 'probability': 1.0},\n",
       " {'class': 'virginica', 'probability': 1.0},\n",
       " {'class': 'virginica', 'probability': 0.55},\n",
       " {'class': 'virginica', 'probability': 0.98},\n",
       " {'class': 'virginica', 'probability': 0.81},\n",
       " {'class': 'virginica', 'probability': 1.0},\n",
       " {'class': 'virginica', 'probability': 0.61},\n",
       " {'class': 'virginica', 'probability': 0.96},\n",
       " {'class': 'virginica', 'probability': 0.95},\n",
       " {'class': 'virginica', 'probability': 0.54},\n",
       " {'class': 'virginica', 'probability': 0.61},\n",
       " {'class': 'virginica', 'probability': 0.96},\n",
       " {'class': 'virginica', 'probability': 0.86},\n",
       " {'class': 'virginica', 'probability': 0.97},\n",
       " {'class': 'virginica', 'probability': 0.98},\n",
       " {'class': 'virginica', 'probability': 0.97},\n",
       " {'class': 'virginica', 'probability': 0.52},\n",
       " {'class': 'virginica', 'probability': 0.81},\n",
       " {'class': 'virginica', 'probability': 0.99},\n",
       " {'class': 'virginica', 'probability': 0.98},\n",
       " {'class': 'virginica', 'probability': 0.88},\n",
       " {'class': 'virginica', 'probability': 0.56},\n",
       " {'class': 'virginica', 'probability': 0.91},\n",
       " {'class': 'virginica', 'probability': 0.98},\n",
       " {'class': 'virginica', 'probability': 0.88},\n",
       " {'class': 'virginica', 'probability': 0.84},\n",
       " {'class': 'virginica', 'probability': 0.99},\n",
       " {'class': 'virginica', 'probability': 0.99},\n",
       " {'class': 'virginica', 'probability': 0.92},\n",
       " {'class': 'virginica', 'probability': 0.75},\n",
       " {'class': 'virginica', 'probability': 0.84},\n",
       " {'class': 'virginica', 'probability': 0.96},\n",
       " {'class': 'virginica', 'probability': 0.76}]"
      ]
     },
     "execution_count": 161,
     "metadata": {},
     "output_type": "execute_result"
    }
   ],
   "source": [
    "lst = list()\n",
    "\n",
    "for i in range(0, predictions.shape[0]) :\n",
    "    dic = {}\n",
    "    dic['class'] = iris_type[np.argmax(predictions, axis=1)[i]]\n",
    "    dic['probability'] = round(max(predictions[i]), 2)\n",
    "    lst.append(dic)\n",
    "\n",
    "lst"
   ]
  },
  {
   "cell_type": "code",
   "execution_count": 174,
   "metadata": {},
   "outputs": [
    {
     "ename": "TypeError",
     "evalue": "unhashable type: 'numpy.ndarray'",
     "output_type": "error",
     "traceback": [
      "\u001b[1;31m---------------------------------------------------------------------------\u001b[0m",
      "\u001b[1;31mTypeError\u001b[0m                                 Traceback (most recent call last)",
      "\u001b[1;32m~\\AppData\\Local\\Temp/ipykernel_23340/844611018.py\u001b[0m in \u001b[0;36m<module>\u001b[1;34m\u001b[0m\n\u001b[0;32m      4\u001b[0m \u001b[0mpredictions\u001b[0m \u001b[1;33m=\u001b[0m \u001b[0mmodel_\u001b[0m\u001b[1;33m.\u001b[0m\u001b[0mpredict_proba\u001b[0m\u001b[1;33m(\u001b[0m\u001b[0mX\u001b[0m\u001b[1;33m)\u001b[0m\u001b[1;33m\u001b[0m\u001b[1;33m\u001b[0m\u001b[0m\n\u001b[0;32m      5\u001b[0m \u001b[1;33m\u001b[0m\u001b[0m\n\u001b[1;32m----> 6\u001b[1;33m dic = {'class': iris_type[np.argmax(predictions, axis=1)],\n\u001b[0m\u001b[0;32m      7\u001b[0m         'probability': round(max(predictions[0]), 2)}\n",
      "\u001b[1;31mTypeError\u001b[0m: unhashable type: 'numpy.ndarray'"
     ]
    }
   ],
   "source": [
    "X = np.array([5, 2, 3, 4]).reshape(1, -1) #.reshape(1, 4)\n",
    "\n",
    "# prediction = predict_model(X) # self.model.predict_proba([X])\n",
    "predictions = model_.predict_proba(X)\n",
    "\n",
    "dic = {'class': iris_type[np.argmax(predictions, axis=1)[0]],\n",
    "        'probability': round(max(predictions[0]), 2)}"
   ]
  },
  {
   "cell_type": "code",
   "execution_count": 173,
   "metadata": {},
   "outputs": [
    {
     "data": {
      "text/plain": [
       "{'class': 'virginica', 'probability': 0.91}"
      ]
     },
     "execution_count": 173,
     "metadata": {},
     "output_type": "execute_result"
    }
   ],
   "source": [
    "dic"
   ]
  }
 ],
 "metadata": {
  "kernelspec": {
   "display_name": "Python 3",
   "language": "python",
   "name": "python3"
  },
  "language_info": {
   "codemirror_mode": {
    "name": "ipython",
    "version": 3
   },
   "file_extension": ".py",
   "mimetype": "text/x-python",
   "name": "python",
   "nbconvert_exporter": "python",
   "pygments_lexer": "ipython3",
   "version": "3.9.5"
  },
  "orig_nbformat": 4,
  "vscode": {
   "interpreter": {
    "hash": "53ca681ee8de3b54bf163d1b625454d8007d7c8aeafa791857ff706faaf06eee"
   }
  }
 },
 "nbformat": 4,
 "nbformat_minor": 2
}
