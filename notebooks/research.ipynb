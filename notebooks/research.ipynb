{
  "cells": [
    {
      "cell_type": "code",
      "execution_count": 1,
      "metadata": {
        "colab": {
          "base_uri": "https://localhost:8080/",
          "height": 515
        },
        "id": "AsA9K49mZZIv",
        "outputId": "6fed2618-e00f-4163-d3d9-0d088843d6f9"
      },
      "outputs": [
        {
          "ename": "ModuleNotFoundError",
          "evalue": "No module named 'pycaret'",
          "output_type": "error",
          "traceback": [
            "\u001b[1;31m---------------------------------------------------------------------------\u001b[0m",
            "\u001b[1;31mModuleNotFoundError\u001b[0m                       Traceback (most recent call last)",
            "\u001b[1;32m~\\AppData\\Local\\Temp\\ipykernel_9268\\2896383193.py\u001b[0m in \u001b[0;36m<module>\u001b[1;34m\u001b[0m\n\u001b[0;32m      9\u001b[0m \u001b[1;32mfrom\u001b[0m \u001b[0msklearn\u001b[0m\u001b[1;33m.\u001b[0m\u001b[0mmetrics\u001b[0m \u001b[1;32mimport\u001b[0m \u001b[0maccuracy_score\u001b[0m\u001b[1;33m\u001b[0m\u001b[1;33m\u001b[0m\u001b[0m\n\u001b[0;32m     10\u001b[0m \u001b[1;32mimport\u001b[0m \u001b[0mlightgbm\u001b[0m \u001b[1;32mas\u001b[0m \u001b[0mlgb\u001b[0m\u001b[1;33m\u001b[0m\u001b[1;33m\u001b[0m\u001b[0m\n\u001b[1;32m---> 11\u001b[1;33m \u001b[1;32mfrom\u001b[0m \u001b[0mpycaret\u001b[0m\u001b[1;33m.\u001b[0m\u001b[0mclassification\u001b[0m \u001b[1;32mimport\u001b[0m \u001b[1;33m*\u001b[0m\u001b[1;33m\u001b[0m\u001b[1;33m\u001b[0m\u001b[0m\n\u001b[0m\u001b[0;32m     12\u001b[0m \u001b[1;33m\u001b[0m\u001b[0m\n",
            "\u001b[1;31mModuleNotFoundError\u001b[0m: No module named 'pycaret'"
          ]
        }
      ],
      "source": [
        "import matplotlib.pyplot as plt\n",
        "import numpy as np\n",
        "import pandas as pd\n",
        "import seaborn as sns\n",
        "\n",
        "from sklearn import datasets\n",
        "from sklearn.model_selection import train_test_split, KFold\n",
        "from sklearn.preprocessing import StandardScaler\n",
        "from sklearn.metrics import accuracy_score\n",
        "import lightgbm as lgb\n",
        "from pycaret.classification import *\n",
        "\n"
      ]
    },
    {
      "cell_type": "code",
      "execution_count": 4,
      "metadata": {
        "id": "_UAlSMCzaFzx"
      },
      "outputs": [],
      "source": [
        "# ! pip install scipy==1.6\n",
        "# ! pip install spacy==3.4.0\n",
        "# ! pip install numpy==1.21\n",
        "# ! pip install pycaret"
      ]
    },
    {
      "cell_type": "code",
      "execution_count": null,
      "metadata": {
        "id": "7_uhtWUvZZIy",
        "outputId": "78148ac7-e9a8-4380-f64f-5ac573723605"
      },
      "outputs": [
        {
          "data": {
            "text/html": [
              "<div>\n",
              "<style scoped>\n",
              "    .dataframe tbody tr th:only-of-type {\n",
              "        vertical-align: middle;\n",
              "    }\n",
              "\n",
              "    .dataframe tbody tr th {\n",
              "        vertical-align: top;\n",
              "    }\n",
              "\n",
              "    .dataframe thead th {\n",
              "        text-align: right;\n",
              "    }\n",
              "</style>\n",
              "<table border=\"1\" class=\"dataframe\">\n",
              "  <thead>\n",
              "    <tr style=\"text-align: right;\">\n",
              "      <th></th>\n",
              "      <th>sepal length (cm)</th>\n",
              "      <th>sepal width (cm)</th>\n",
              "      <th>petal length (cm)</th>\n",
              "      <th>petal width (cm)</th>\n",
              "      <th>target</th>\n",
              "    </tr>\n",
              "  </thead>\n",
              "  <tbody>\n",
              "    <tr>\n",
              "      <th>0</th>\n",
              "      <td>5.1</td>\n",
              "      <td>3.5</td>\n",
              "      <td>1.4</td>\n",
              "      <td>0.2</td>\n",
              "      <td>0.0</td>\n",
              "    </tr>\n",
              "    <tr>\n",
              "      <th>1</th>\n",
              "      <td>4.9</td>\n",
              "      <td>3.0</td>\n",
              "      <td>1.4</td>\n",
              "      <td>0.2</td>\n",
              "      <td>0.0</td>\n",
              "    </tr>\n",
              "    <tr>\n",
              "      <th>2</th>\n",
              "      <td>4.7</td>\n",
              "      <td>3.2</td>\n",
              "      <td>1.3</td>\n",
              "      <td>0.2</td>\n",
              "      <td>0.0</td>\n",
              "    </tr>\n",
              "    <tr>\n",
              "      <th>3</th>\n",
              "      <td>4.6</td>\n",
              "      <td>3.1</td>\n",
              "      <td>1.5</td>\n",
              "      <td>0.2</td>\n",
              "      <td>0.0</td>\n",
              "    </tr>\n",
              "    <tr>\n",
              "      <th>4</th>\n",
              "      <td>5.0</td>\n",
              "      <td>3.6</td>\n",
              "      <td>1.4</td>\n",
              "      <td>0.2</td>\n",
              "      <td>0.0</td>\n",
              "    </tr>\n",
              "  </tbody>\n",
              "</table>\n",
              "</div>"
            ],
            "text/plain": [
              "   sepal length (cm)  sepal width (cm)  petal length (cm)  petal width (cm)  \\\n",
              "0                5.1               3.5                1.4               0.2   \n",
              "1                4.9               3.0                1.4               0.2   \n",
              "2                4.7               3.2                1.3               0.2   \n",
              "3                4.6               3.1                1.5               0.2   \n",
              "4                5.0               3.6                1.4               0.2   \n",
              "\n",
              "   target  \n",
              "0     0.0  \n",
              "1     0.0  \n",
              "2     0.0  \n",
              "3     0.0  \n",
              "4     0.0  "
            ]
          },
          "execution_count": 3,
          "metadata": {},
          "output_type": "execute_result"
        }
      ],
      "source": [
        "# import iris dataset\n",
        "df = datasets.load_iris()\n",
        "\n",
        "# np.c_ is the numpy concatenate function\n",
        "# which is used to concat iris['data'] and iris['target'] arrays \n",
        "# for pandas column argument: concat iris['feature_names'] list\n",
        "# and string list (in this case one string); you can make this anything you'd like..  \n",
        "# the original dataset would probably call this ['Species']\n",
        "df = pd.DataFrame(data= np.c_[df['data'], df['target']],\n",
        "                     columns= df['feature_names'] + ['target'])\n",
        "df.head()"
      ]
    },
    {
      "cell_type": "code",
      "execution_count": null,
      "metadata": {
        "id": "vjFsr1cIZZI1"
      },
      "outputs": [],
      "source": [
        "# split the data into train and test sets\n",
        "train, test= train_test_split(df,\n",
        "                                    test_size= 0.25,\n",
        "                                    shuffle= True,\n",
        "                                    random_state= 42)\n",
        "\n"
      ]
    },
    {
      "cell_type": "code",
      "execution_count": null,
      "metadata": {
        "id": "tkrjvf5yZZI3",
        "outputId": "c94f141d-3a48-4fa3-d946-801a0190ac2d"
      },
      "outputs": [
        {
          "data": {
            "text/html": [
              "<style type=\"text/css\">\n",
              "#T_0e8d7_row40_col1, #T_0e8d7_row44_col1, #T_0e8d7_row52_col1 {\n",
              "  background-color: lightgreen;\n",
              "}\n",
              "</style>\n",
              "<table id=\"T_0e8d7_\">\n",
              "  <thead>\n",
              "    <tr>\n",
              "      <th class=\"blank level0\" >&nbsp;</th>\n",
              "      <th class=\"col_heading level0 col0\" >Description</th>\n",
              "      <th class=\"col_heading level0 col1\" >Value</th>\n",
              "    </tr>\n",
              "  </thead>\n",
              "  <tbody>\n",
              "    <tr>\n",
              "      <th id=\"T_0e8d7_level0_row0\" class=\"row_heading level0 row0\" >0</th>\n",
              "      <td id=\"T_0e8d7_row0_col0\" class=\"data row0 col0\" >session_id</td>\n",
              "      <td id=\"T_0e8d7_row0_col1\" class=\"data row0 col1\" >2809</td>\n",
              "    </tr>\n",
              "    <tr>\n",
              "      <th id=\"T_0e8d7_level0_row1\" class=\"row_heading level0 row1\" >1</th>\n",
              "      <td id=\"T_0e8d7_row1_col0\" class=\"data row1 col0\" >Target</td>\n",
              "      <td id=\"T_0e8d7_row1_col1\" class=\"data row1 col1\" >target</td>\n",
              "    </tr>\n",
              "    <tr>\n",
              "      <th id=\"T_0e8d7_level0_row2\" class=\"row_heading level0 row2\" >2</th>\n",
              "      <td id=\"T_0e8d7_row2_col0\" class=\"data row2 col0\" >Target Type</td>\n",
              "      <td id=\"T_0e8d7_row2_col1\" class=\"data row2 col1\" >Multiclass</td>\n",
              "    </tr>\n",
              "    <tr>\n",
              "      <th id=\"T_0e8d7_level0_row3\" class=\"row_heading level0 row3\" >3</th>\n",
              "      <td id=\"T_0e8d7_row3_col0\" class=\"data row3 col0\" >Label Encoded</td>\n",
              "      <td id=\"T_0e8d7_row3_col1\" class=\"data row3 col1\" >None</td>\n",
              "    </tr>\n",
              "    <tr>\n",
              "      <th id=\"T_0e8d7_level0_row4\" class=\"row_heading level0 row4\" >4</th>\n",
              "      <td id=\"T_0e8d7_row4_col0\" class=\"data row4 col0\" >Original Data</td>\n",
              "      <td id=\"T_0e8d7_row4_col1\" class=\"data row4 col1\" >(112, 5)</td>\n",
              "    </tr>\n",
              "    <tr>\n",
              "      <th id=\"T_0e8d7_level0_row5\" class=\"row_heading level0 row5\" >5</th>\n",
              "      <td id=\"T_0e8d7_row5_col0\" class=\"data row5 col0\" >Missing Values</td>\n",
              "      <td id=\"T_0e8d7_row5_col1\" class=\"data row5 col1\" >False</td>\n",
              "    </tr>\n",
              "    <tr>\n",
              "      <th id=\"T_0e8d7_level0_row6\" class=\"row_heading level0 row6\" >6</th>\n",
              "      <td id=\"T_0e8d7_row6_col0\" class=\"data row6 col0\" >Numeric Features</td>\n",
              "      <td id=\"T_0e8d7_row6_col1\" class=\"data row6 col1\" >4</td>\n",
              "    </tr>\n",
              "    <tr>\n",
              "      <th id=\"T_0e8d7_level0_row7\" class=\"row_heading level0 row7\" >7</th>\n",
              "      <td id=\"T_0e8d7_row7_col0\" class=\"data row7 col0\" >Categorical Features</td>\n",
              "      <td id=\"T_0e8d7_row7_col1\" class=\"data row7 col1\" >0</td>\n",
              "    </tr>\n",
              "    <tr>\n",
              "      <th id=\"T_0e8d7_level0_row8\" class=\"row_heading level0 row8\" >8</th>\n",
              "      <td id=\"T_0e8d7_row8_col0\" class=\"data row8 col0\" >Ordinal Features</td>\n",
              "      <td id=\"T_0e8d7_row8_col1\" class=\"data row8 col1\" >False</td>\n",
              "    </tr>\n",
              "    <tr>\n",
              "      <th id=\"T_0e8d7_level0_row9\" class=\"row_heading level0 row9\" >9</th>\n",
              "      <td id=\"T_0e8d7_row9_col0\" class=\"data row9 col0\" >High Cardinality Features</td>\n",
              "      <td id=\"T_0e8d7_row9_col1\" class=\"data row9 col1\" >False</td>\n",
              "    </tr>\n",
              "    <tr>\n",
              "      <th id=\"T_0e8d7_level0_row10\" class=\"row_heading level0 row10\" >10</th>\n",
              "      <td id=\"T_0e8d7_row10_col0\" class=\"data row10 col0\" >High Cardinality Method</td>\n",
              "      <td id=\"T_0e8d7_row10_col1\" class=\"data row10 col1\" >None</td>\n",
              "    </tr>\n",
              "    <tr>\n",
              "      <th id=\"T_0e8d7_level0_row11\" class=\"row_heading level0 row11\" >11</th>\n",
              "      <td id=\"T_0e8d7_row11_col0\" class=\"data row11 col0\" >Transformed Train Set</td>\n",
              "      <td id=\"T_0e8d7_row11_col1\" class=\"data row11 col1\" >(74, 4)</td>\n",
              "    </tr>\n",
              "    <tr>\n",
              "      <th id=\"T_0e8d7_level0_row12\" class=\"row_heading level0 row12\" >12</th>\n",
              "      <td id=\"T_0e8d7_row12_col0\" class=\"data row12 col0\" >Transformed Test Set</td>\n",
              "      <td id=\"T_0e8d7_row12_col1\" class=\"data row12 col1\" >(34, 4)</td>\n",
              "    </tr>\n",
              "    <tr>\n",
              "      <th id=\"T_0e8d7_level0_row13\" class=\"row_heading level0 row13\" >13</th>\n",
              "      <td id=\"T_0e8d7_row13_col0\" class=\"data row13 col0\" >Shuffle Train-Test</td>\n",
              "      <td id=\"T_0e8d7_row13_col1\" class=\"data row13 col1\" >True</td>\n",
              "    </tr>\n",
              "    <tr>\n",
              "      <th id=\"T_0e8d7_level0_row14\" class=\"row_heading level0 row14\" >14</th>\n",
              "      <td id=\"T_0e8d7_row14_col0\" class=\"data row14 col0\" >Stratify Train-Test</td>\n",
              "      <td id=\"T_0e8d7_row14_col1\" class=\"data row14 col1\" >False</td>\n",
              "    </tr>\n",
              "    <tr>\n",
              "      <th id=\"T_0e8d7_level0_row15\" class=\"row_heading level0 row15\" >15</th>\n",
              "      <td id=\"T_0e8d7_row15_col0\" class=\"data row15 col0\" >Fold Generator</td>\n",
              "      <td id=\"T_0e8d7_row15_col1\" class=\"data row15 col1\" >StratifiedKFold</td>\n",
              "    </tr>\n",
              "    <tr>\n",
              "      <th id=\"T_0e8d7_level0_row16\" class=\"row_heading level0 row16\" >16</th>\n",
              "      <td id=\"T_0e8d7_row16_col0\" class=\"data row16 col0\" >Fold Number</td>\n",
              "      <td id=\"T_0e8d7_row16_col1\" class=\"data row16 col1\" >10</td>\n",
              "    </tr>\n",
              "    <tr>\n",
              "      <th id=\"T_0e8d7_level0_row17\" class=\"row_heading level0 row17\" >17</th>\n",
              "      <td id=\"T_0e8d7_row17_col0\" class=\"data row17 col0\" >CPU Jobs</td>\n",
              "      <td id=\"T_0e8d7_row17_col1\" class=\"data row17 col1\" >-1</td>\n",
              "    </tr>\n",
              "    <tr>\n",
              "      <th id=\"T_0e8d7_level0_row18\" class=\"row_heading level0 row18\" >18</th>\n",
              "      <td id=\"T_0e8d7_row18_col0\" class=\"data row18 col0\" >Use GPU</td>\n",
              "      <td id=\"T_0e8d7_row18_col1\" class=\"data row18 col1\" >False</td>\n",
              "    </tr>\n",
              "    <tr>\n",
              "      <th id=\"T_0e8d7_level0_row19\" class=\"row_heading level0 row19\" >19</th>\n",
              "      <td id=\"T_0e8d7_row19_col0\" class=\"data row19 col0\" >Log Experiment</td>\n",
              "      <td id=\"T_0e8d7_row19_col1\" class=\"data row19 col1\" >False</td>\n",
              "    </tr>\n",
              "    <tr>\n",
              "      <th id=\"T_0e8d7_level0_row20\" class=\"row_heading level0 row20\" >20</th>\n",
              "      <td id=\"T_0e8d7_row20_col0\" class=\"data row20 col0\" >Experiment Name</td>\n",
              "      <td id=\"T_0e8d7_row20_col1\" class=\"data row20 col1\" >clf-default-name</td>\n",
              "    </tr>\n",
              "    <tr>\n",
              "      <th id=\"T_0e8d7_level0_row21\" class=\"row_heading level0 row21\" >21</th>\n",
              "      <td id=\"T_0e8d7_row21_col0\" class=\"data row21 col0\" >USI</td>\n",
              "      <td id=\"T_0e8d7_row21_col1\" class=\"data row21 col1\" >b7e4</td>\n",
              "    </tr>\n",
              "    <tr>\n",
              "      <th id=\"T_0e8d7_level0_row22\" class=\"row_heading level0 row22\" >22</th>\n",
              "      <td id=\"T_0e8d7_row22_col0\" class=\"data row22 col0\" >Imputation Type</td>\n",
              "      <td id=\"T_0e8d7_row22_col1\" class=\"data row22 col1\" >simple</td>\n",
              "    </tr>\n",
              "    <tr>\n",
              "      <th id=\"T_0e8d7_level0_row23\" class=\"row_heading level0 row23\" >23</th>\n",
              "      <td id=\"T_0e8d7_row23_col0\" class=\"data row23 col0\" >Iterative Imputation Iteration</td>\n",
              "      <td id=\"T_0e8d7_row23_col1\" class=\"data row23 col1\" >None</td>\n",
              "    </tr>\n",
              "    <tr>\n",
              "      <th id=\"T_0e8d7_level0_row24\" class=\"row_heading level0 row24\" >24</th>\n",
              "      <td id=\"T_0e8d7_row24_col0\" class=\"data row24 col0\" >Numeric Imputer</td>\n",
              "      <td id=\"T_0e8d7_row24_col1\" class=\"data row24 col1\" >mean</td>\n",
              "    </tr>\n",
              "    <tr>\n",
              "      <th id=\"T_0e8d7_level0_row25\" class=\"row_heading level0 row25\" >25</th>\n",
              "      <td id=\"T_0e8d7_row25_col0\" class=\"data row25 col0\" >Iterative Imputation Numeric Model</td>\n",
              "      <td id=\"T_0e8d7_row25_col1\" class=\"data row25 col1\" >None</td>\n",
              "    </tr>\n",
              "    <tr>\n",
              "      <th id=\"T_0e8d7_level0_row26\" class=\"row_heading level0 row26\" >26</th>\n",
              "      <td id=\"T_0e8d7_row26_col0\" class=\"data row26 col0\" >Categorical Imputer</td>\n",
              "      <td id=\"T_0e8d7_row26_col1\" class=\"data row26 col1\" >constant</td>\n",
              "    </tr>\n",
              "    <tr>\n",
              "      <th id=\"T_0e8d7_level0_row27\" class=\"row_heading level0 row27\" >27</th>\n",
              "      <td id=\"T_0e8d7_row27_col0\" class=\"data row27 col0\" >Iterative Imputation Categorical Model</td>\n",
              "      <td id=\"T_0e8d7_row27_col1\" class=\"data row27 col1\" >None</td>\n",
              "    </tr>\n",
              "    <tr>\n",
              "      <th id=\"T_0e8d7_level0_row28\" class=\"row_heading level0 row28\" >28</th>\n",
              "      <td id=\"T_0e8d7_row28_col0\" class=\"data row28 col0\" >Unknown Categoricals Handling</td>\n",
              "      <td id=\"T_0e8d7_row28_col1\" class=\"data row28 col1\" >least_frequent</td>\n",
              "    </tr>\n",
              "    <tr>\n",
              "      <th id=\"T_0e8d7_level0_row29\" class=\"row_heading level0 row29\" >29</th>\n",
              "      <td id=\"T_0e8d7_row29_col0\" class=\"data row29 col0\" >Normalize</td>\n",
              "      <td id=\"T_0e8d7_row29_col1\" class=\"data row29 col1\" >False</td>\n",
              "    </tr>\n",
              "    <tr>\n",
              "      <th id=\"T_0e8d7_level0_row30\" class=\"row_heading level0 row30\" >30</th>\n",
              "      <td id=\"T_0e8d7_row30_col0\" class=\"data row30 col0\" >Normalize Method</td>\n",
              "      <td id=\"T_0e8d7_row30_col1\" class=\"data row30 col1\" >None</td>\n",
              "    </tr>\n",
              "    <tr>\n",
              "      <th id=\"T_0e8d7_level0_row31\" class=\"row_heading level0 row31\" >31</th>\n",
              "      <td id=\"T_0e8d7_row31_col0\" class=\"data row31 col0\" >Transformation</td>\n",
              "      <td id=\"T_0e8d7_row31_col1\" class=\"data row31 col1\" >False</td>\n",
              "    </tr>\n",
              "    <tr>\n",
              "      <th id=\"T_0e8d7_level0_row32\" class=\"row_heading level0 row32\" >32</th>\n",
              "      <td id=\"T_0e8d7_row32_col0\" class=\"data row32 col0\" >Transformation Method</td>\n",
              "      <td id=\"T_0e8d7_row32_col1\" class=\"data row32 col1\" >None</td>\n",
              "    </tr>\n",
              "    <tr>\n",
              "      <th id=\"T_0e8d7_level0_row33\" class=\"row_heading level0 row33\" >33</th>\n",
              "      <td id=\"T_0e8d7_row33_col0\" class=\"data row33 col0\" >PCA</td>\n",
              "      <td id=\"T_0e8d7_row33_col1\" class=\"data row33 col1\" >False</td>\n",
              "    </tr>\n",
              "    <tr>\n",
              "      <th id=\"T_0e8d7_level0_row34\" class=\"row_heading level0 row34\" >34</th>\n",
              "      <td id=\"T_0e8d7_row34_col0\" class=\"data row34 col0\" >PCA Method</td>\n",
              "      <td id=\"T_0e8d7_row34_col1\" class=\"data row34 col1\" >None</td>\n",
              "    </tr>\n",
              "    <tr>\n",
              "      <th id=\"T_0e8d7_level0_row35\" class=\"row_heading level0 row35\" >35</th>\n",
              "      <td id=\"T_0e8d7_row35_col0\" class=\"data row35 col0\" >PCA Components</td>\n",
              "      <td id=\"T_0e8d7_row35_col1\" class=\"data row35 col1\" >None</td>\n",
              "    </tr>\n",
              "    <tr>\n",
              "      <th id=\"T_0e8d7_level0_row36\" class=\"row_heading level0 row36\" >36</th>\n",
              "      <td id=\"T_0e8d7_row36_col0\" class=\"data row36 col0\" >Ignore Low Variance</td>\n",
              "      <td id=\"T_0e8d7_row36_col1\" class=\"data row36 col1\" >False</td>\n",
              "    </tr>\n",
              "    <tr>\n",
              "      <th id=\"T_0e8d7_level0_row37\" class=\"row_heading level0 row37\" >37</th>\n",
              "      <td id=\"T_0e8d7_row37_col0\" class=\"data row37 col0\" >Combine Rare Levels</td>\n",
              "      <td id=\"T_0e8d7_row37_col1\" class=\"data row37 col1\" >False</td>\n",
              "    </tr>\n",
              "    <tr>\n",
              "      <th id=\"T_0e8d7_level0_row38\" class=\"row_heading level0 row38\" >38</th>\n",
              "      <td id=\"T_0e8d7_row38_col0\" class=\"data row38 col0\" >Rare Level Threshold</td>\n",
              "      <td id=\"T_0e8d7_row38_col1\" class=\"data row38 col1\" >None</td>\n",
              "    </tr>\n",
              "    <tr>\n",
              "      <th id=\"T_0e8d7_level0_row39\" class=\"row_heading level0 row39\" >39</th>\n",
              "      <td id=\"T_0e8d7_row39_col0\" class=\"data row39 col0\" >Numeric Binning</td>\n",
              "      <td id=\"T_0e8d7_row39_col1\" class=\"data row39 col1\" >False</td>\n",
              "    </tr>\n",
              "    <tr>\n",
              "      <th id=\"T_0e8d7_level0_row40\" class=\"row_heading level0 row40\" >40</th>\n",
              "      <td id=\"T_0e8d7_row40_col0\" class=\"data row40 col0\" >Remove Outliers</td>\n",
              "      <td id=\"T_0e8d7_row40_col1\" class=\"data row40 col1\" >True</td>\n",
              "    </tr>\n",
              "    <tr>\n",
              "      <th id=\"T_0e8d7_level0_row41\" class=\"row_heading level0 row41\" >41</th>\n",
              "      <td id=\"T_0e8d7_row41_col0\" class=\"data row41 col0\" >Outliers Threshold</td>\n",
              "      <td id=\"T_0e8d7_row41_col1\" class=\"data row41 col1\" >0.050000</td>\n",
              "    </tr>\n",
              "    <tr>\n",
              "      <th id=\"T_0e8d7_level0_row42\" class=\"row_heading level0 row42\" >42</th>\n",
              "      <td id=\"T_0e8d7_row42_col0\" class=\"data row42 col0\" >Remove Multicollinearity</td>\n",
              "      <td id=\"T_0e8d7_row42_col1\" class=\"data row42 col1\" >False</td>\n",
              "    </tr>\n",
              "    <tr>\n",
              "      <th id=\"T_0e8d7_level0_row43\" class=\"row_heading level0 row43\" >43</th>\n",
              "      <td id=\"T_0e8d7_row43_col0\" class=\"data row43 col0\" >Multicollinearity Threshold</td>\n",
              "      <td id=\"T_0e8d7_row43_col1\" class=\"data row43 col1\" >None</td>\n",
              "    </tr>\n",
              "    <tr>\n",
              "      <th id=\"T_0e8d7_level0_row44\" class=\"row_heading level0 row44\" >44</th>\n",
              "      <td id=\"T_0e8d7_row44_col0\" class=\"data row44 col0\" >Remove Perfect Collinearity</td>\n",
              "      <td id=\"T_0e8d7_row44_col1\" class=\"data row44 col1\" >True</td>\n",
              "    </tr>\n",
              "    <tr>\n",
              "      <th id=\"T_0e8d7_level0_row45\" class=\"row_heading level0 row45\" >45</th>\n",
              "      <td id=\"T_0e8d7_row45_col0\" class=\"data row45 col0\" >Clustering</td>\n",
              "      <td id=\"T_0e8d7_row45_col1\" class=\"data row45 col1\" >False</td>\n",
              "    </tr>\n",
              "    <tr>\n",
              "      <th id=\"T_0e8d7_level0_row46\" class=\"row_heading level0 row46\" >46</th>\n",
              "      <td id=\"T_0e8d7_row46_col0\" class=\"data row46 col0\" >Clustering Iteration</td>\n",
              "      <td id=\"T_0e8d7_row46_col1\" class=\"data row46 col1\" >None</td>\n",
              "    </tr>\n",
              "    <tr>\n",
              "      <th id=\"T_0e8d7_level0_row47\" class=\"row_heading level0 row47\" >47</th>\n",
              "      <td id=\"T_0e8d7_row47_col0\" class=\"data row47 col0\" >Polynomial Features</td>\n",
              "      <td id=\"T_0e8d7_row47_col1\" class=\"data row47 col1\" >False</td>\n",
              "    </tr>\n",
              "    <tr>\n",
              "      <th id=\"T_0e8d7_level0_row48\" class=\"row_heading level0 row48\" >48</th>\n",
              "      <td id=\"T_0e8d7_row48_col0\" class=\"data row48 col0\" >Polynomial Degree</td>\n",
              "      <td id=\"T_0e8d7_row48_col1\" class=\"data row48 col1\" >None</td>\n",
              "    </tr>\n",
              "    <tr>\n",
              "      <th id=\"T_0e8d7_level0_row49\" class=\"row_heading level0 row49\" >49</th>\n",
              "      <td id=\"T_0e8d7_row49_col0\" class=\"data row49 col0\" >Trignometry Features</td>\n",
              "      <td id=\"T_0e8d7_row49_col1\" class=\"data row49 col1\" >False</td>\n",
              "    </tr>\n",
              "    <tr>\n",
              "      <th id=\"T_0e8d7_level0_row50\" class=\"row_heading level0 row50\" >50</th>\n",
              "      <td id=\"T_0e8d7_row50_col0\" class=\"data row50 col0\" >Polynomial Threshold</td>\n",
              "      <td id=\"T_0e8d7_row50_col1\" class=\"data row50 col1\" >None</td>\n",
              "    </tr>\n",
              "    <tr>\n",
              "      <th id=\"T_0e8d7_level0_row51\" class=\"row_heading level0 row51\" >51</th>\n",
              "      <td id=\"T_0e8d7_row51_col0\" class=\"data row51 col0\" >Group Features</td>\n",
              "      <td id=\"T_0e8d7_row51_col1\" class=\"data row51 col1\" >False</td>\n",
              "    </tr>\n",
              "    <tr>\n",
              "      <th id=\"T_0e8d7_level0_row52\" class=\"row_heading level0 row52\" >52</th>\n",
              "      <td id=\"T_0e8d7_row52_col0\" class=\"data row52 col0\" >Feature Selection</td>\n",
              "      <td id=\"T_0e8d7_row52_col1\" class=\"data row52 col1\" >True</td>\n",
              "    </tr>\n",
              "    <tr>\n",
              "      <th id=\"T_0e8d7_level0_row53\" class=\"row_heading level0 row53\" >53</th>\n",
              "      <td id=\"T_0e8d7_row53_col0\" class=\"data row53 col0\" >Feature Selection Method</td>\n",
              "      <td id=\"T_0e8d7_row53_col1\" class=\"data row53 col1\" >classic</td>\n",
              "    </tr>\n",
              "    <tr>\n",
              "      <th id=\"T_0e8d7_level0_row54\" class=\"row_heading level0 row54\" >54</th>\n",
              "      <td id=\"T_0e8d7_row54_col0\" class=\"data row54 col0\" >Features Selection Threshold</td>\n",
              "      <td id=\"T_0e8d7_row54_col1\" class=\"data row54 col1\" >0.800000</td>\n",
              "    </tr>\n",
              "    <tr>\n",
              "      <th id=\"T_0e8d7_level0_row55\" class=\"row_heading level0 row55\" >55</th>\n",
              "      <td id=\"T_0e8d7_row55_col0\" class=\"data row55 col0\" >Feature Interaction</td>\n",
              "      <td id=\"T_0e8d7_row55_col1\" class=\"data row55 col1\" >False</td>\n",
              "    </tr>\n",
              "    <tr>\n",
              "      <th id=\"T_0e8d7_level0_row56\" class=\"row_heading level0 row56\" >56</th>\n",
              "      <td id=\"T_0e8d7_row56_col0\" class=\"data row56 col0\" >Feature Ratio</td>\n",
              "      <td id=\"T_0e8d7_row56_col1\" class=\"data row56 col1\" >False</td>\n",
              "    </tr>\n",
              "    <tr>\n",
              "      <th id=\"T_0e8d7_level0_row57\" class=\"row_heading level0 row57\" >57</th>\n",
              "      <td id=\"T_0e8d7_row57_col0\" class=\"data row57 col0\" >Interaction Threshold</td>\n",
              "      <td id=\"T_0e8d7_row57_col1\" class=\"data row57 col1\" >None</td>\n",
              "    </tr>\n",
              "    <tr>\n",
              "      <th id=\"T_0e8d7_level0_row58\" class=\"row_heading level0 row58\" >58</th>\n",
              "      <td id=\"T_0e8d7_row58_col0\" class=\"data row58 col0\" >Fix Imbalance</td>\n",
              "      <td id=\"T_0e8d7_row58_col1\" class=\"data row58 col1\" >False</td>\n",
              "    </tr>\n",
              "    <tr>\n",
              "      <th id=\"T_0e8d7_level0_row59\" class=\"row_heading level0 row59\" >59</th>\n",
              "      <td id=\"T_0e8d7_row59_col0\" class=\"data row59 col0\" >Fix Imbalance Method</td>\n",
              "      <td id=\"T_0e8d7_row59_col1\" class=\"data row59 col1\" >SMOTE</td>\n",
              "    </tr>\n",
              "  </tbody>\n",
              "</table>\n"
            ],
            "text/plain": [
              "<pandas.io.formats.style.Styler at 0x7f0ad869f2e0>"
            ]
          },
          "metadata": {},
          "output_type": "display_data"
        }
      ],
      "source": [
        "clf1 = setup(data = train, \n",
        "             target = \"target\",\n",
        "             silent = True,\n",
        "             remove_outliers = True,\n",
        "             feature_selection = True)"
      ]
    },
    {
      "cell_type": "code",
      "execution_count": null,
      "metadata": {
        "id": "nnbPZi3AZZI4",
        "outputId": "56221d9e-d318-4848-a04e-f045ca344826"
      },
      "outputs": [
        {
          "data": {
            "text/html": [
              "<style type=\"text/css\">\n",
              "#T_9e399_ th {\n",
              "  text-align: left;\n",
              "}\n",
              "#T_9e399_row0_col0, #T_9e399_row1_col0, #T_9e399_row1_col1, #T_9e399_row1_col2, #T_9e399_row1_col3, #T_9e399_row1_col4, #T_9e399_row1_col5, #T_9e399_row1_col6, #T_9e399_row1_col7, #T_9e399_row2_col0, #T_9e399_row2_col1, #T_9e399_row2_col2, #T_9e399_row2_col3, #T_9e399_row2_col4, #T_9e399_row2_col5, #T_9e399_row2_col6, #T_9e399_row2_col7, #T_9e399_row3_col0, #T_9e399_row3_col1, #T_9e399_row3_col2, #T_9e399_row3_col3, #T_9e399_row3_col4, #T_9e399_row3_col5, #T_9e399_row3_col6, #T_9e399_row3_col7, #T_9e399_row4_col0, #T_9e399_row4_col1, #T_9e399_row4_col2, #T_9e399_row4_col3, #T_9e399_row4_col4, #T_9e399_row4_col5, #T_9e399_row4_col6, #T_9e399_row4_col7, #T_9e399_row5_col0, #T_9e399_row5_col1, #T_9e399_row5_col2, #T_9e399_row5_col3, #T_9e399_row5_col4, #T_9e399_row5_col5, #T_9e399_row5_col6, #T_9e399_row5_col7, #T_9e399_row6_col0, #T_9e399_row6_col1, #T_9e399_row6_col3, #T_9e399_row6_col4, #T_9e399_row6_col5, #T_9e399_row6_col6, #T_9e399_row6_col7, #T_9e399_row7_col0, #T_9e399_row7_col1, #T_9e399_row7_col2, #T_9e399_row7_col3, #T_9e399_row7_col4, #T_9e399_row7_col5, #T_9e399_row7_col6, #T_9e399_row7_col7, #T_9e399_row8_col0, #T_9e399_row8_col1, #T_9e399_row8_col2, #T_9e399_row8_col3, #T_9e399_row8_col4, #T_9e399_row8_col5, #T_9e399_row8_col6, #T_9e399_row8_col7, #T_9e399_row9_col0, #T_9e399_row9_col1, #T_9e399_row9_col2, #T_9e399_row9_col3, #T_9e399_row9_col4, #T_9e399_row9_col5, #T_9e399_row9_col6, #T_9e399_row9_col7, #T_9e399_row10_col0, #T_9e399_row10_col1, #T_9e399_row10_col2, #T_9e399_row10_col3, #T_9e399_row10_col4, #T_9e399_row10_col5, #T_9e399_row10_col6, #T_9e399_row10_col7, #T_9e399_row11_col0, #T_9e399_row11_col1, #T_9e399_row11_col2, #T_9e399_row11_col3, #T_9e399_row11_col4, #T_9e399_row11_col5, #T_9e399_row11_col6, #T_9e399_row11_col7, #T_9e399_row12_col0, #T_9e399_row12_col1, #T_9e399_row12_col2, #T_9e399_row12_col3, #T_9e399_row12_col4, #T_9e399_row12_col5, #T_9e399_row12_col6, #T_9e399_row12_col7, #T_9e399_row13_col0, #T_9e399_row13_col1, #T_9e399_row13_col2, #T_9e399_row13_col3, #T_9e399_row13_col4, #T_9e399_row13_col5, #T_9e399_row13_col6, #T_9e399_row13_col7, #T_9e399_row14_col0, #T_9e399_row14_col1, #T_9e399_row14_col2, #T_9e399_row14_col3, #T_9e399_row14_col4, #T_9e399_row14_col5, #T_9e399_row14_col6, #T_9e399_row14_col7 {\n",
              "  text-align: left;\n",
              "}\n",
              "#T_9e399_row0_col1, #T_9e399_row0_col2, #T_9e399_row0_col3, #T_9e399_row0_col4, #T_9e399_row0_col5, #T_9e399_row0_col6, #T_9e399_row0_col7, #T_9e399_row6_col2 {\n",
              "  text-align: left;\n",
              "  background-color: yellow;\n",
              "}\n",
              "#T_9e399_row0_col8, #T_9e399_row1_col8, #T_9e399_row2_col8, #T_9e399_row3_col8, #T_9e399_row4_col8, #T_9e399_row5_col8, #T_9e399_row6_col8, #T_9e399_row7_col8, #T_9e399_row8_col8, #T_9e399_row9_col8, #T_9e399_row10_col8, #T_9e399_row11_col8, #T_9e399_row13_col8 {\n",
              "  text-align: left;\n",
              "  background-color: lightgrey;\n",
              "}\n",
              "#T_9e399_row12_col8, #T_9e399_row14_col8 {\n",
              "  text-align: left;\n",
              "  background-color: yellow;\n",
              "  background-color: lightgrey;\n",
              "}\n",
              "</style>\n",
              "<table id=\"T_9e399_\">\n",
              "  <thead>\n",
              "    <tr>\n",
              "      <th class=\"blank level0\" >&nbsp;</th>\n",
              "      <th class=\"col_heading level0 col0\" >Model</th>\n",
              "      <th class=\"col_heading level0 col1\" >Accuracy</th>\n",
              "      <th class=\"col_heading level0 col2\" >AUC</th>\n",
              "      <th class=\"col_heading level0 col3\" >Recall</th>\n",
              "      <th class=\"col_heading level0 col4\" >Prec.</th>\n",
              "      <th class=\"col_heading level0 col5\" >F1</th>\n",
              "      <th class=\"col_heading level0 col6\" >Kappa</th>\n",
              "      <th class=\"col_heading level0 col7\" >MCC</th>\n",
              "      <th class=\"col_heading level0 col8\" >TT (Sec)</th>\n",
              "    </tr>\n",
              "  </thead>\n",
              "  <tbody>\n",
              "    <tr>\n",
              "      <th id=\"T_9e399_level0_row0\" class=\"row_heading level0 row0\" >qda</th>\n",
              "      <td id=\"T_9e399_row0_col0\" class=\"data row0 col0\" >Quadratic Discriminant Analysis</td>\n",
              "      <td id=\"T_9e399_row0_col1\" class=\"data row0 col1\" >0.9875</td>\n",
              "      <td id=\"T_9e399_row0_col2\" class=\"data row0 col2\" >0.9900</td>\n",
              "      <td id=\"T_9e399_row0_col3\" class=\"data row0 col3\" >0.9889</td>\n",
              "      <td id=\"T_9e399_row0_col4\" class=\"data row0 col4\" >0.9906</td>\n",
              "      <td id=\"T_9e399_row0_col5\" class=\"data row0 col5\" >0.9871</td>\n",
              "      <td id=\"T_9e399_row0_col6\" class=\"data row0 col6\" >0.9810</td>\n",
              "      <td id=\"T_9e399_row0_col7\" class=\"data row0 col7\" >0.9830</td>\n",
              "      <td id=\"T_9e399_row0_col8\" class=\"data row0 col8\" >0.0030</td>\n",
              "    </tr>\n",
              "    <tr>\n",
              "      <th id=\"T_9e399_level0_row1\" class=\"row_heading level0 row1\" >lda</th>\n",
              "      <td id=\"T_9e399_row1_col0\" class=\"data row1 col0\" >Linear Discriminant Analysis</td>\n",
              "      <td id=\"T_9e399_row1_col1\" class=\"data row1 col1\" >0.9464</td>\n",
              "      <td id=\"T_9e399_row1_col2\" class=\"data row1 col2\" >0.9850</td>\n",
              "      <td id=\"T_9e399_row1_col3\" class=\"data row1 col3\" >0.9500</td>\n",
              "      <td id=\"T_9e399_row1_col4\" class=\"data row1 col4\" >0.9610</td>\n",
              "      <td id=\"T_9e399_row1_col5\" class=\"data row1 col5\" >0.9444</td>\n",
              "      <td id=\"T_9e399_row1_col6\" class=\"data row1 col6\" >0.9181</td>\n",
              "      <td id=\"T_9e399_row1_col7\" class=\"data row1 col7\" >0.9273</td>\n",
              "      <td id=\"T_9e399_row1_col8\" class=\"data row1 col8\" >0.0030</td>\n",
              "    </tr>\n",
              "    <tr>\n",
              "      <th id=\"T_9e399_level0_row2\" class=\"row_heading level0 row2\" >lr</th>\n",
              "      <td id=\"T_9e399_row2_col0\" class=\"data row2 col0\" >Logistic Regression</td>\n",
              "      <td id=\"T_9e399_row2_col1\" class=\"data row2 col1\" >0.9339</td>\n",
              "      <td id=\"T_9e399_row2_col2\" class=\"data row2 col2\" >0.9850</td>\n",
              "      <td id=\"T_9e399_row2_col3\" class=\"data row2 col3\" >0.9444</td>\n",
              "      <td id=\"T_9e399_row2_col4\" class=\"data row2 col4\" >0.9466</td>\n",
              "      <td id=\"T_9e399_row2_col5\" class=\"data row2 col5\" >0.9336</td>\n",
              "      <td id=\"T_9e399_row2_col6\" class=\"data row2 col6\" >0.9004</td>\n",
              "      <td id=\"T_9e399_row2_col7\" class=\"data row2 col7\" >0.9074</td>\n",
              "      <td id=\"T_9e399_row2_col8\" class=\"data row2 col8\" >0.2370</td>\n",
              "    </tr>\n",
              "    <tr>\n",
              "      <th id=\"T_9e399_level0_row3\" class=\"row_heading level0 row3\" >nb</th>\n",
              "      <td id=\"T_9e399_row3_col0\" class=\"data row3 col0\" >Naive Bayes</td>\n",
              "      <td id=\"T_9e399_row3_col1\" class=\"data row3 col1\" >0.9339</td>\n",
              "      <td id=\"T_9e399_row3_col2\" class=\"data row3 col2\" >0.9850</td>\n",
              "      <td id=\"T_9e399_row3_col3\" class=\"data row3 col3\" >0.9444</td>\n",
              "      <td id=\"T_9e399_row3_col4\" class=\"data row3 col4\" >0.9466</td>\n",
              "      <td id=\"T_9e399_row3_col5\" class=\"data row3 col5\" >0.9336</td>\n",
              "      <td id=\"T_9e399_row3_col6\" class=\"data row3 col6\" >0.9004</td>\n",
              "      <td id=\"T_9e399_row3_col7\" class=\"data row3 col7\" >0.9074</td>\n",
              "      <td id=\"T_9e399_row3_col8\" class=\"data row3 col8\" >0.0030</td>\n",
              "    </tr>\n",
              "    <tr>\n",
              "      <th id=\"T_9e399_level0_row4\" class=\"row_heading level0 row4\" >knn</th>\n",
              "      <td id=\"T_9e399_row4_col0\" class=\"data row4 col0\" >K Neighbors Classifier</td>\n",
              "      <td id=\"T_9e399_row4_col1\" class=\"data row4 col1\" >0.9321</td>\n",
              "      <td id=\"T_9e399_row4_col2\" class=\"data row4 col2\" >0.9875</td>\n",
              "      <td id=\"T_9e399_row4_col3\" class=\"data row4 col3\" >0.9389</td>\n",
              "      <td id=\"T_9e399_row4_col4\" class=\"data row4 col4\" >0.9515</td>\n",
              "      <td id=\"T_9e399_row4_col5\" class=\"data row4 col5\" >0.9301</td>\n",
              "      <td id=\"T_9e399_row4_col6\" class=\"data row4 col6\" >0.8969</td>\n",
              "      <td id=\"T_9e399_row4_col7\" class=\"data row4 col7\" >0.9086</td>\n",
              "      <td id=\"T_9e399_row4_col8\" class=\"data row4 col8\" >0.1040</td>\n",
              "    </tr>\n",
              "    <tr>\n",
              "      <th id=\"T_9e399_level0_row5\" class=\"row_heading level0 row5\" >gbc</th>\n",
              "      <td id=\"T_9e399_row5_col0\" class=\"data row5 col0\" >Gradient Boosting Classifier</td>\n",
              "      <td id=\"T_9e399_row5_col1\" class=\"data row5 col1\" >0.9196</td>\n",
              "      <td id=\"T_9e399_row5_col2\" class=\"data row5 col2\" >0.9536</td>\n",
              "      <td id=\"T_9e399_row5_col3\" class=\"data row5 col3\" >0.9278</td>\n",
              "      <td id=\"T_9e399_row5_col4\" class=\"data row5 col4\" >0.9359</td>\n",
              "      <td id=\"T_9e399_row5_col5\" class=\"data row5 col5\" >0.9179</td>\n",
              "      <td id=\"T_9e399_row5_col6\" class=\"data row5 col6\" >0.8779</td>\n",
              "      <td id=\"T_9e399_row5_col7\" class=\"data row5 col7\" >0.8875</td>\n",
              "      <td id=\"T_9e399_row5_col8\" class=\"data row5 col8\" >0.0300</td>\n",
              "    </tr>\n",
              "    <tr>\n",
              "      <th id=\"T_9e399_level0_row6\" class=\"row_heading level0 row6\" >catboost</th>\n",
              "      <td id=\"T_9e399_row6_col0\" class=\"data row6 col0\" >CatBoost Classifier</td>\n",
              "      <td id=\"T_9e399_row6_col1\" class=\"data row6 col1\" >0.9071</td>\n",
              "      <td id=\"T_9e399_row6_col2\" class=\"data row6 col2\" >0.9900</td>\n",
              "      <td id=\"T_9e399_row6_col3\" class=\"data row6 col3\" >0.9167</td>\n",
              "      <td id=\"T_9e399_row6_col4\" class=\"data row6 col4\" >0.9202</td>\n",
              "      <td id=\"T_9e399_row6_col5\" class=\"data row6 col5\" >0.9058</td>\n",
              "      <td id=\"T_9e399_row6_col6\" class=\"data row6 col6\" >0.8588</td>\n",
              "      <td id=\"T_9e399_row6_col7\" class=\"data row6 col7\" >0.8665</td>\n",
              "      <td id=\"T_9e399_row6_col8\" class=\"data row6 col8\" >0.4150</td>\n",
              "    </tr>\n",
              "    <tr>\n",
              "      <th id=\"T_9e399_level0_row7\" class=\"row_heading level0 row7\" >rf</th>\n",
              "      <td id=\"T_9e399_row7_col0\" class=\"data row7 col0\" >Random Forest Classifier</td>\n",
              "      <td id=\"T_9e399_row7_col1\" class=\"data row7 col1\" >0.9054</td>\n",
              "      <td id=\"T_9e399_row7_col2\" class=\"data row7 col2\" >0.9862</td>\n",
              "      <td id=\"T_9e399_row7_col3\" class=\"data row7 col3\" >0.9111</td>\n",
              "      <td id=\"T_9e399_row7_col4\" class=\"data row7 col4\" >0.9251</td>\n",
              "      <td id=\"T_9e399_row7_col5\" class=\"data row7 col5\" >0.9023</td>\n",
              "      <td id=\"T_9e399_row7_col6\" class=\"data row7 col6\" >0.8553</td>\n",
              "      <td id=\"T_9e399_row7_col7\" class=\"data row7 col7\" >0.8677</td>\n",
              "      <td id=\"T_9e399_row7_col8\" class=\"data row7 col8\" >0.0360</td>\n",
              "    </tr>\n",
              "    <tr>\n",
              "      <th id=\"T_9e399_level0_row8\" class=\"row_heading level0 row8\" >lightgbm</th>\n",
              "      <td id=\"T_9e399_row8_col0\" class=\"data row8 col0\" >Light Gradient Boosting Machine</td>\n",
              "      <td id=\"T_9e399_row8_col1\" class=\"data row8 col1\" >0.9054</td>\n",
              "      <td id=\"T_9e399_row8_col2\" class=\"data row8 col2\" >0.9850</td>\n",
              "      <td id=\"T_9e399_row8_col3\" class=\"data row8 col3\" >0.9111</td>\n",
              "      <td id=\"T_9e399_row8_col4\" class=\"data row8 col4\" >0.9251</td>\n",
              "      <td id=\"T_9e399_row8_col5\" class=\"data row8 col5\" >0.9023</td>\n",
              "      <td id=\"T_9e399_row8_col6\" class=\"data row8 col6\" >0.8553</td>\n",
              "      <td id=\"T_9e399_row8_col7\" class=\"data row8 col7\" >0.8677</td>\n",
              "      <td id=\"T_9e399_row8_col8\" class=\"data row8 col8\" >0.0090</td>\n",
              "    </tr>\n",
              "    <tr>\n",
              "      <th id=\"T_9e399_level0_row9\" class=\"row_heading level0 row9\" >et</th>\n",
              "      <td id=\"T_9e399_row9_col0\" class=\"data row9 col0\" >Extra Trees Classifier</td>\n",
              "      <td id=\"T_9e399_row9_col1\" class=\"data row9 col1\" >0.8929</td>\n",
              "      <td id=\"T_9e399_row9_col2\" class=\"data row9 col2\" >0.9838</td>\n",
              "      <td id=\"T_9e399_row9_col3\" class=\"data row9 col3\" >0.9000</td>\n",
              "      <td id=\"T_9e399_row9_col4\" class=\"data row9 col4\" >0.9095</td>\n",
              "      <td id=\"T_9e399_row9_col5\" class=\"data row9 col5\" >0.8901</td>\n",
              "      <td id=\"T_9e399_row9_col6\" class=\"data row9 col6\" >0.8362</td>\n",
              "      <td id=\"T_9e399_row9_col7\" class=\"data row9 col7\" >0.8467</td>\n",
              "      <td id=\"T_9e399_row9_col8\" class=\"data row9 col8\" >0.0320</td>\n",
              "    </tr>\n",
              "    <tr>\n",
              "      <th id=\"T_9e399_level0_row10\" class=\"row_heading level0 row10\" >dt</th>\n",
              "      <td id=\"T_9e399_row10_col0\" class=\"data row10 col0\" >Decision Tree Classifier</td>\n",
              "      <td id=\"T_9e399_row10_col1\" class=\"data row10 col1\" >0.8911</td>\n",
              "      <td id=\"T_9e399_row10_col2\" class=\"data row10 col2\" >0.9150</td>\n",
              "      <td id=\"T_9e399_row10_col3\" class=\"data row10 col3\" >0.9000</td>\n",
              "      <td id=\"T_9e399_row10_col4\" class=\"data row10 col4\" >0.9073</td>\n",
              "      <td id=\"T_9e399_row10_col5\" class=\"data row10 col5\" >0.8894</td>\n",
              "      <td id=\"T_9e399_row10_col6\" class=\"data row10 col6\" >0.8341</td>\n",
              "      <td id=\"T_9e399_row10_col7\" class=\"data row10 col7\" >0.8438</td>\n",
              "      <td id=\"T_9e399_row10_col8\" class=\"data row10 col8\" >0.0030</td>\n",
              "    </tr>\n",
              "    <tr>\n",
              "      <th id=\"T_9e399_level0_row11\" class=\"row_heading level0 row11\" >ada</th>\n",
              "      <td id=\"T_9e399_row11_col0\" class=\"data row11 col0\" >Ada Boost Classifier</td>\n",
              "      <td id=\"T_9e399_row11_col1\" class=\"data row11 col1\" >0.8679</td>\n",
              "      <td id=\"T_9e399_row11_col2\" class=\"data row11 col2\" >0.9682</td>\n",
              "      <td id=\"T_9e399_row11_col3\" class=\"data row11 col3\" >0.8778</td>\n",
              "      <td id=\"T_9e399_row11_col4\" class=\"data row11 col4\" >0.8970</td>\n",
              "      <td id=\"T_9e399_row11_col5\" class=\"data row11 col5\" >0.8631</td>\n",
              "      <td id=\"T_9e399_row11_col6\" class=\"data row11 col6\" >0.7999</td>\n",
              "      <td id=\"T_9e399_row11_col7\" class=\"data row11 col7\" >0.8168</td>\n",
              "      <td id=\"T_9e399_row11_col8\" class=\"data row11 col8\" >0.0150</td>\n",
              "    </tr>\n",
              "    <tr>\n",
              "      <th id=\"T_9e399_level0_row12\" class=\"row_heading level0 row12\" >ridge</th>\n",
              "      <td id=\"T_9e399_row12_col0\" class=\"data row12 col0\" >Ridge Classifier</td>\n",
              "      <td id=\"T_9e399_row12_col1\" class=\"data row12 col1\" >0.7982</td>\n",
              "      <td id=\"T_9e399_row12_col2\" class=\"data row12 col2\" >0.0000</td>\n",
              "      <td id=\"T_9e399_row12_col3\" class=\"data row12 col3\" >0.8111</td>\n",
              "      <td id=\"T_9e399_row12_col4\" class=\"data row12 col4\" >0.8445</td>\n",
              "      <td id=\"T_9e399_row12_col5\" class=\"data row12 col5\" >0.7891</td>\n",
              "      <td id=\"T_9e399_row12_col6\" class=\"data row12 col6\" >0.6963</td>\n",
              "      <td id=\"T_9e399_row12_col7\" class=\"data row12 col7\" >0.7242</td>\n",
              "      <td id=\"T_9e399_row12_col8\" class=\"data row12 col8\" >0.0020</td>\n",
              "    </tr>\n",
              "    <tr>\n",
              "      <th id=\"T_9e399_level0_row13\" class=\"row_heading level0 row13\" >svm</th>\n",
              "      <td id=\"T_9e399_row13_col0\" class=\"data row13 col0\" >SVM - Linear Kernel</td>\n",
              "      <td id=\"T_9e399_row13_col1\" class=\"data row13 col1\" >0.7196</td>\n",
              "      <td id=\"T_9e399_row13_col2\" class=\"data row13 col2\" >0.0000</td>\n",
              "      <td id=\"T_9e399_row13_col3\" class=\"data row13 col3\" >0.7333</td>\n",
              "      <td id=\"T_9e399_row13_col4\" class=\"data row13 col4\" >0.6335</td>\n",
              "      <td id=\"T_9e399_row13_col5\" class=\"data row13 col5\" >0.6480</td>\n",
              "      <td id=\"T_9e399_row13_col6\" class=\"data row13 col6\" >0.5822</td>\n",
              "      <td id=\"T_9e399_row13_col7\" class=\"data row13 col7\" >0.6546</td>\n",
              "      <td id=\"T_9e399_row13_col8\" class=\"data row13 col8\" >0.0040</td>\n",
              "    </tr>\n",
              "    <tr>\n",
              "      <th id=\"T_9e399_level0_row14\" class=\"row_heading level0 row14\" >dummy</th>\n",
              "      <td id=\"T_9e399_row14_col0\" class=\"data row14 col0\" >Dummy Classifier</td>\n",
              "      <td id=\"T_9e399_row14_col1\" class=\"data row14 col1\" >0.3643</td>\n",
              "      <td id=\"T_9e399_row14_col2\" class=\"data row14 col2\" >0.5000</td>\n",
              "      <td id=\"T_9e399_row14_col3\" class=\"data row14 col3\" >0.3333</td>\n",
              "      <td id=\"T_9e399_row14_col4\" class=\"data row14 col4\" >0.1358</td>\n",
              "      <td id=\"T_9e399_row14_col5\" class=\"data row14 col5\" >0.1971</td>\n",
              "      <td id=\"T_9e399_row14_col6\" class=\"data row14 col6\" >0.0000</td>\n",
              "      <td id=\"T_9e399_row14_col7\" class=\"data row14 col7\" >0.0000</td>\n",
              "      <td id=\"T_9e399_row14_col8\" class=\"data row14 col8\" >0.0020</td>\n",
              "    </tr>\n",
              "  </tbody>\n",
              "</table>\n"
            ],
            "text/plain": [
              "<pandas.io.formats.style.Styler at 0x7f0ae0247520>"
            ]
          },
          "metadata": {},
          "output_type": "display_data"
        }
      ],
      "source": [
        "best = compare_models(exclude=['xgboost'])"
      ]
    },
    {
      "cell_type": "code",
      "execution_count": null,
      "metadata": {
        "id": "hRHjshU6ZZI5",
        "outputId": "80fb664f-7dc2-404e-a93f-fd1854e67841"
      },
      "outputs": [
        {
          "data": {
            "text/html": [
              "<style type=\"text/css\">\n",
              "#T_a3620_row10_col0, #T_a3620_row10_col1, #T_a3620_row10_col2, #T_a3620_row10_col3, #T_a3620_row10_col4, #T_a3620_row10_col5, #T_a3620_row10_col6 {\n",
              "  background: yellow;\n",
              "}\n",
              "</style>\n",
              "<table id=\"T_a3620_\">\n",
              "  <thead>\n",
              "    <tr>\n",
              "      <th class=\"blank level0\" >&nbsp;</th>\n",
              "      <th class=\"col_heading level0 col0\" >Accuracy</th>\n",
              "      <th class=\"col_heading level0 col1\" >AUC</th>\n",
              "      <th class=\"col_heading level0 col2\" >Recall</th>\n",
              "      <th class=\"col_heading level0 col3\" >Prec.</th>\n",
              "      <th class=\"col_heading level0 col4\" >F1</th>\n",
              "      <th class=\"col_heading level0 col5\" >Kappa</th>\n",
              "      <th class=\"col_heading level0 col6\" >MCC</th>\n",
              "    </tr>\n",
              "  </thead>\n",
              "  <tbody>\n",
              "    <tr>\n",
              "      <th id=\"T_a3620_level0_row0\" class=\"row_heading level0 row0\" >0</th>\n",
              "      <td id=\"T_a3620_row0_col0\" class=\"data row0 col0\" >0.8750</td>\n",
              "      <td id=\"T_a3620_row0_col1\" class=\"data row0 col1\" >0.9000</td>\n",
              "      <td id=\"T_a3620_row0_col2\" class=\"data row0 col2\" >0.8889</td>\n",
              "      <td id=\"T_a3620_row0_col3\" class=\"data row0 col3\" >0.9062</td>\n",
              "      <td id=\"T_a3620_row0_col4\" class=\"data row0 col4\" >0.8714</td>\n",
              "      <td id=\"T_a3620_row0_col5\" class=\"data row0 col5\" >0.8095</td>\n",
              "      <td id=\"T_a3620_row0_col6\" class=\"data row0 col6\" >0.8295</td>\n",
              "    </tr>\n",
              "    <tr>\n",
              "      <th id=\"T_a3620_level0_row1\" class=\"row_heading level0 row1\" >1</th>\n",
              "      <td id=\"T_a3620_row1_col0\" class=\"data row1 col0\" >1.0000</td>\n",
              "      <td id=\"T_a3620_row1_col1\" class=\"data row1 col1\" >1.0000</td>\n",
              "      <td id=\"T_a3620_row1_col2\" class=\"data row1 col2\" >1.0000</td>\n",
              "      <td id=\"T_a3620_row1_col3\" class=\"data row1 col3\" >1.0000</td>\n",
              "      <td id=\"T_a3620_row1_col4\" class=\"data row1 col4\" >1.0000</td>\n",
              "      <td id=\"T_a3620_row1_col5\" class=\"data row1 col5\" >1.0000</td>\n",
              "      <td id=\"T_a3620_row1_col6\" class=\"data row1 col6\" >1.0000</td>\n",
              "    </tr>\n",
              "    <tr>\n",
              "      <th id=\"T_a3620_level0_row2\" class=\"row_heading level0 row2\" >2</th>\n",
              "      <td id=\"T_a3620_row2_col0\" class=\"data row2 col0\" >1.0000</td>\n",
              "      <td id=\"T_a3620_row2_col1\" class=\"data row2 col1\" >1.0000</td>\n",
              "      <td id=\"T_a3620_row2_col2\" class=\"data row2 col2\" >1.0000</td>\n",
              "      <td id=\"T_a3620_row2_col3\" class=\"data row2 col3\" >1.0000</td>\n",
              "      <td id=\"T_a3620_row2_col4\" class=\"data row2 col4\" >1.0000</td>\n",
              "      <td id=\"T_a3620_row2_col5\" class=\"data row2 col5\" >1.0000</td>\n",
              "      <td id=\"T_a3620_row2_col6\" class=\"data row2 col6\" >1.0000</td>\n",
              "    </tr>\n",
              "    <tr>\n",
              "      <th id=\"T_a3620_level0_row3\" class=\"row_heading level0 row3\" >3</th>\n",
              "      <td id=\"T_a3620_row3_col0\" class=\"data row3 col0\" >1.0000</td>\n",
              "      <td id=\"T_a3620_row3_col1\" class=\"data row3 col1\" >1.0000</td>\n",
              "      <td id=\"T_a3620_row3_col2\" class=\"data row3 col2\" >1.0000</td>\n",
              "      <td id=\"T_a3620_row3_col3\" class=\"data row3 col3\" >1.0000</td>\n",
              "      <td id=\"T_a3620_row3_col4\" class=\"data row3 col4\" >1.0000</td>\n",
              "      <td id=\"T_a3620_row3_col5\" class=\"data row3 col5\" >1.0000</td>\n",
              "      <td id=\"T_a3620_row3_col6\" class=\"data row3 col6\" >1.0000</td>\n",
              "    </tr>\n",
              "    <tr>\n",
              "      <th id=\"T_a3620_level0_row4\" class=\"row_heading level0 row4\" >4</th>\n",
              "      <td id=\"T_a3620_row4_col0\" class=\"data row4 col0\" >1.0000</td>\n",
              "      <td id=\"T_a3620_row4_col1\" class=\"data row4 col1\" >1.0000</td>\n",
              "      <td id=\"T_a3620_row4_col2\" class=\"data row4 col2\" >1.0000</td>\n",
              "      <td id=\"T_a3620_row4_col3\" class=\"data row4 col3\" >1.0000</td>\n",
              "      <td id=\"T_a3620_row4_col4\" class=\"data row4 col4\" >1.0000</td>\n",
              "      <td id=\"T_a3620_row4_col5\" class=\"data row4 col5\" >1.0000</td>\n",
              "      <td id=\"T_a3620_row4_col6\" class=\"data row4 col6\" >1.0000</td>\n",
              "    </tr>\n",
              "    <tr>\n",
              "      <th id=\"T_a3620_level0_row5\" class=\"row_heading level0 row5\" >5</th>\n",
              "      <td id=\"T_a3620_row5_col0\" class=\"data row5 col0\" >1.0000</td>\n",
              "      <td id=\"T_a3620_row5_col1\" class=\"data row5 col1\" >1.0000</td>\n",
              "      <td id=\"T_a3620_row5_col2\" class=\"data row5 col2\" >1.0000</td>\n",
              "      <td id=\"T_a3620_row5_col3\" class=\"data row5 col3\" >1.0000</td>\n",
              "      <td id=\"T_a3620_row5_col4\" class=\"data row5 col4\" >1.0000</td>\n",
              "      <td id=\"T_a3620_row5_col5\" class=\"data row5 col5\" >1.0000</td>\n",
              "      <td id=\"T_a3620_row5_col6\" class=\"data row5 col6\" >1.0000</td>\n",
              "    </tr>\n",
              "    <tr>\n",
              "      <th id=\"T_a3620_level0_row6\" class=\"row_heading level0 row6\" >6</th>\n",
              "      <td id=\"T_a3620_row6_col0\" class=\"data row6 col0\" >1.0000</td>\n",
              "      <td id=\"T_a3620_row6_col1\" class=\"data row6 col1\" >1.0000</td>\n",
              "      <td id=\"T_a3620_row6_col2\" class=\"data row6 col2\" >1.0000</td>\n",
              "      <td id=\"T_a3620_row6_col3\" class=\"data row6 col3\" >1.0000</td>\n",
              "      <td id=\"T_a3620_row6_col4\" class=\"data row6 col4\" >1.0000</td>\n",
              "      <td id=\"T_a3620_row6_col5\" class=\"data row6 col5\" >1.0000</td>\n",
              "      <td id=\"T_a3620_row6_col6\" class=\"data row6 col6\" >1.0000</td>\n",
              "    </tr>\n",
              "    <tr>\n",
              "      <th id=\"T_a3620_level0_row7\" class=\"row_heading level0 row7\" >7</th>\n",
              "      <td id=\"T_a3620_row7_col0\" class=\"data row7 col0\" >1.0000</td>\n",
              "      <td id=\"T_a3620_row7_col1\" class=\"data row7 col1\" >1.0000</td>\n",
              "      <td id=\"T_a3620_row7_col2\" class=\"data row7 col2\" >1.0000</td>\n",
              "      <td id=\"T_a3620_row7_col3\" class=\"data row7 col3\" >1.0000</td>\n",
              "      <td id=\"T_a3620_row7_col4\" class=\"data row7 col4\" >1.0000</td>\n",
              "      <td id=\"T_a3620_row7_col5\" class=\"data row7 col5\" >1.0000</td>\n",
              "      <td id=\"T_a3620_row7_col6\" class=\"data row7 col6\" >1.0000</td>\n",
              "    </tr>\n",
              "    <tr>\n",
              "      <th id=\"T_a3620_level0_row8\" class=\"row_heading level0 row8\" >8</th>\n",
              "      <td id=\"T_a3620_row8_col0\" class=\"data row8 col0\" >1.0000</td>\n",
              "      <td id=\"T_a3620_row8_col1\" class=\"data row8 col1\" >1.0000</td>\n",
              "      <td id=\"T_a3620_row8_col2\" class=\"data row8 col2\" >1.0000</td>\n",
              "      <td id=\"T_a3620_row8_col3\" class=\"data row8 col3\" >1.0000</td>\n",
              "      <td id=\"T_a3620_row8_col4\" class=\"data row8 col4\" >1.0000</td>\n",
              "      <td id=\"T_a3620_row8_col5\" class=\"data row8 col5\" >1.0000</td>\n",
              "      <td id=\"T_a3620_row8_col6\" class=\"data row8 col6\" >1.0000</td>\n",
              "    </tr>\n",
              "    <tr>\n",
              "      <th id=\"T_a3620_level0_row9\" class=\"row_heading level0 row9\" >9</th>\n",
              "      <td id=\"T_a3620_row9_col0\" class=\"data row9 col0\" >1.0000</td>\n",
              "      <td id=\"T_a3620_row9_col1\" class=\"data row9 col1\" >1.0000</td>\n",
              "      <td id=\"T_a3620_row9_col2\" class=\"data row9 col2\" >1.0000</td>\n",
              "      <td id=\"T_a3620_row9_col3\" class=\"data row9 col3\" >1.0000</td>\n",
              "      <td id=\"T_a3620_row9_col4\" class=\"data row9 col4\" >1.0000</td>\n",
              "      <td id=\"T_a3620_row9_col5\" class=\"data row9 col5\" >1.0000</td>\n",
              "      <td id=\"T_a3620_row9_col6\" class=\"data row9 col6\" >1.0000</td>\n",
              "    </tr>\n",
              "    <tr>\n",
              "      <th id=\"T_a3620_level0_row10\" class=\"row_heading level0 row10\" >Mean</th>\n",
              "      <td id=\"T_a3620_row10_col0\" class=\"data row10 col0\" >0.9875</td>\n",
              "      <td id=\"T_a3620_row10_col1\" class=\"data row10 col1\" >0.9900</td>\n",
              "      <td id=\"T_a3620_row10_col2\" class=\"data row10 col2\" >0.9889</td>\n",
              "      <td id=\"T_a3620_row10_col3\" class=\"data row10 col3\" >0.9906</td>\n",
              "      <td id=\"T_a3620_row10_col4\" class=\"data row10 col4\" >0.9871</td>\n",
              "      <td id=\"T_a3620_row10_col5\" class=\"data row10 col5\" >0.9810</td>\n",
              "      <td id=\"T_a3620_row10_col6\" class=\"data row10 col6\" >0.9830</td>\n",
              "    </tr>\n",
              "    <tr>\n",
              "      <th id=\"T_a3620_level0_row11\" class=\"row_heading level0 row11\" >SD</th>\n",
              "      <td id=\"T_a3620_row11_col0\" class=\"data row11 col0\" >0.0375</td>\n",
              "      <td id=\"T_a3620_row11_col1\" class=\"data row11 col1\" >0.0300</td>\n",
              "      <td id=\"T_a3620_row11_col2\" class=\"data row11 col2\" >0.0333</td>\n",
              "      <td id=\"T_a3620_row11_col3\" class=\"data row11 col3\" >0.0281</td>\n",
              "      <td id=\"T_a3620_row11_col4\" class=\"data row11 col4\" >0.0386</td>\n",
              "      <td id=\"T_a3620_row11_col5\" class=\"data row11 col5\" >0.0571</td>\n",
              "      <td id=\"T_a3620_row11_col6\" class=\"data row11 col6\" >0.0511</td>\n",
              "    </tr>\n",
              "  </tbody>\n",
              "</table>\n"
            ],
            "text/plain": [
              "<pandas.io.formats.style.Styler at 0x7f0ad864b8e0>"
            ]
          },
          "metadata": {},
          "output_type": "display_data"
        }
      ],
      "source": [
        "qda = create_model('qda')"
      ]
    },
    {
      "cell_type": "code",
      "execution_count": null,
      "metadata": {
        "id": "HxYIFhOHZZI6",
        "outputId": "258d4741-f54d-41b8-f63c-ff2fbd6fde75"
      },
      "outputs": [
        {
          "data": {
            "image/png": "[encoded data removed]",
            "text/plain": [
              "<Figure size 576x396 with 1 Axes>"
            ]
          },
          "metadata": {},
          "output_type": "display_data"
        }
      ],
      "source": [
        "plot_model(qda, plot = 'confusion_matrix')\n"
      ]
    },
    {
      "cell_type": "code",
      "execution_count": null,
      "metadata": {
        "id": "3_r5cHHVZZI7",
        "outputId": "c3674c18-510f-4d75-a491-9f2324cbf1e4"
      },
      "outputs": [
        {
          "data": {
            "image/png": "[encoded data removed]",
            "text/plain": [
              "<Figure size 576x396 with 1 Axes>"
            ]
          },
          "metadata": {},
          "output_type": "display_data"
        }
      ],
      "source": [
        "plot_model(qda, plot='boundary')"
      ]
    },
    {
      "cell_type": "code",
      "execution_count": null,
      "metadata": {
        "id": "MtwjUY0SZZI8",
        "outputId": "7501f19d-85b8-4a5c-e232-da4ff708f80c"
      },
      "outputs": [
        {
          "data": {
            "image/png": "[encoded data removed]",
            "text/plain": [
              "<Figure size 576x396 with 1 Axes>"
            ]
          },
          "metadata": {},
          "output_type": "display_data"
        }
      ],
      "source": [
        "plot_model(estimator = qda, plot = 'learning')"
      ]
    },
    {
      "cell_type": "code",
      "execution_count": null,
      "metadata": {
        "id": "Qsd0IKd5ZZI9",
        "outputId": "28c872c9-ea1a-4b91-f310-2db40ddb4bbe"
      },
      "outputs": [
        {
          "data": {
            "image/png": "[encoded data removed]",
            "text/plain": [
              "<Figure size 576x396 with 1 Axes>"
            ]
          },
          "metadata": {},
          "output_type": "display_data"
        }
      ],
      "source": [
        "plot_model(estimator = qda, plot = 'auc')"
      ]
    },
    {
      "cell_type": "markdown",
      "metadata": {
        "id": "Ul9EHLJpZZI9"
      },
      "source": [
        "## Retrain a new model for further testing"
      ]
    },
    {
      "cell_type": "code",
      "execution_count": null,
      "metadata": {
        "id": "MqeiLfI6ZZI_"
      },
      "outputs": [],
      "source": [
        "from sklearn.model_selection import train_test_split\n",
        "\n",
        "\n",
        "X=df.drop('target', axis=1)  \n",
        "y=df['target']  \n",
        "\n",
        "X_train, X_test, y_train, y_test = train_test_split(X, y, test_size=0.25)"
      ]
    },
    {
      "cell_type": "code",
      "execution_count": null,
      "metadata": {
        "id": "gTWwFzRoZZJA",
        "outputId": "ae5095fe-aa4c-4c51-9b35-411cbde29538"
      },
      "outputs": [
        {
          "name": "stdout",
          "output_type": "stream",
          "text": [
            "Fitting 3 folds for each of 60 candidates, totalling 180 fits\n"
          ]
        },
        {
          "name": "stderr",
          "output_type": "stream",
          "text": [
            "[Parallel(n_jobs=-1)]: Using backend LokyBackend with 16 concurrent workers.\n",
            "[Parallel(n_jobs=-1)]: Done  18 tasks      | elapsed:    2.1s\n",
            "[Parallel(n_jobs=-1)]: Done 180 out of 180 | elapsed:    7.4s finished\n"
          ]
        },
        {
          "data": {
            "text/plain": [
              "GridSearchCV(cv=3, error_score=nan,\n",
              "             estimator=RandomForestClassifier(bootstrap=True, ccp_alpha=0.0,\n",
              "                                              class_weight=None,\n",
              "                                              criterion='gini', max_depth=None,\n",
              "                                              max_features='auto',\n",
              "                                              max_leaf_nodes=None,\n",
              "                                              max_samples=None,\n",
              "                                              min_impurity_decrease=0.0,\n",
              "                                              min_impurity_split=None,\n",
              "                                              min_samples_leaf=1,\n",
              "                                              min_samples_split=2,\n",
              "                                              min_weight_fraction_leaf=0.0,\n",
              "                                              n_estimators=100, n_jobs=None,\n",
              "                                              oob_score=False, random_state=42,\n",
              "                                              verbose=0, warm_start=False),\n",
              "             iid='deprecated', n_jobs=-1,\n",
              "             param_grid={'criterion': ['gini', 'entropy'],\n",
              "                         'max_depth': [4, 5, 6, 7, 8],\n",
              "                         'max_features': ['auto', 'sqrt', 'log2'],\n",
              "                         'n_estimators': [200, 500]},\n",
              "             pre_dispatch='2*n_jobs', refit=True, return_train_score=False,\n",
              "             scoring=None, verbose=1)"
            ]
          },
          "execution_count": 45,
          "metadata": {},
          "output_type": "execute_result"
        }
      ],
      "source": [
        "#Import Random Forest Model\n",
        "from sklearn.ensemble import RandomForestClassifier\n",
        "from sklearn.model_selection import GridSearchCV\n",
        "\n",
        "\n",
        "param_grid = { \n",
        "    'n_estimators': [200, 500],\n",
        "    'max_features': ['auto', 'sqrt', 'log2'],\n",
        "    'max_depth' : [4,5,6,7,8],\n",
        "    'criterion' :['gini', 'entropy']\n",
        "}\n",
        "\n",
        "\n",
        "rfc=RandomForestClassifier(random_state=42)\n",
        "\n",
        "\n",
        "CV_rfc = GridSearchCV(estimator=rfc, param_grid=param_grid, verbose=1, cv= 3, n_jobs=-1)\n",
        "CV_rfc.fit(X_train, y_train)"
      ]
    },
    {
      "cell_type": "code",
      "execution_count": null,
      "metadata": {
        "id": "vdwWfaRbZZJB",
        "outputId": "26c5dc59-8aad-4e39-e0fc-5fb1060b834e"
      },
      "outputs": [
        {
          "data": {
            "text/plain": [
              "{'criterion': 'gini',\n",
              " 'max_depth': 4,\n",
              " 'max_features': 'auto',\n",
              " 'n_estimators': 200}"
            ]
          },
          "execution_count": 46,
          "metadata": {},
          "output_type": "execute_result"
        }
      ],
      "source": [
        "CV_rfc.best_params_"
      ]
    },
    {
      "cell_type": "code",
      "execution_count": null,
      "metadata": {
        "id": "McgPp102ZZJC",
        "outputId": "3ea2d6a9-5e4b-4a23-ed82-b81a83c465bc"
      },
      "outputs": [
        {
          "data": {
            "text/plain": [
              "RandomForestClassifier(bootstrap=True, ccp_alpha=0.0, class_weight=None,\n",
              "                       criterion='gini', max_depth=4, max_features='auto',\n",
              "                       max_leaf_nodes=None, max_samples=None,\n",
              "                       min_impurity_decrease=0.0, min_impurity_split=None,\n",
              "                       min_samples_leaf=1, min_samples_split=2,\n",
              "                       min_weight_fraction_leaf=0.0, n_estimators=200,\n",
              "                       n_jobs=None, oob_score=False, random_state=42, verbose=0,\n",
              "                       warm_start=False)"
            ]
          },
          "execution_count": 47,
          "metadata": {},
          "output_type": "execute_result"
        }
      ],
      "source": [
        "# # Get the best hyperparameters\n",
        "# best_rf = CV_rfc.best_estimator_\n",
        "\n",
        "best_rf=RandomForestClassifier(\n",
        "    random_state=42, max_features='auto', \n",
        "    n_estimators= 200, max_depth=4, criterion='gini')\n",
        "\n",
        "best_rf.fit(X_train, y_train)"
      ]
    },
    {
      "cell_type": "code",
      "execution_count": null,
      "metadata": {
        "id": "YjE_iL2fZZJC",
        "outputId": "aaf9e260-a910-42d1-bbc9-d6ec2efc141a"
      },
      "outputs": [
        {
          "name": "stdout",
          "output_type": "stream",
          "text": [
            "Accuracy for Random Forest on CV data:  1.0\n"
          ]
        }
      ],
      "source": [
        "y_pred = best_rf.predict(X_test)\n",
        "print(\"Accuracy for Random Forest on CV data: \",accuracy_score(y_test,y_pred))"
      ]
    },
    {
      "cell_type": "code",
      "execution_count": null,
      "metadata": {
        "id": "Mw66mvKrZZJD",
        "outputId": "95ce733f-a78b-45b2-f1c1-7563dcd3f349"
      },
      "outputs": [
        {
          "data": {
            "text/plain": [
              "['rf.sav']"
            ]
          },
          "execution_count": 50,
          "metadata": {},
          "output_type": "execute_result"
        }
      ],
      "source": [
        "import joblib\n",
        "\n",
        "\n",
        "# save the model to disk\n",
        "filename = 'rf.sav'\n",
        "joblib.dump(best_rf, filename)"
      ]
    },
    {
      "cell_type": "code",
      "execution_count": null,
      "metadata": {
        "id": "_QS49wb7ZZJE"
      },
      "outputs": [],
      "source": [
        "import joblib\n",
        "\n",
        "# load the model from disk\n",
        "filename = 'rf.sav'\n",
        "\n",
        "loaded_model = joblib.load(filename)\n",
        "# result = loaded_model.predict(test.drop('target', axis=1).iloc[0].values.reshape(1, -1))\n",
        "# result"
      ]
    },
    {
      "cell_type": "code",
      "execution_count": null,
      "metadata": {
        "id": "nvTtipn5ZZJF",
        "outputId": "a4030b2a-7942-4c94-9cdc-74f82e6aae24"
      },
      "outputs": [
        {
          "ename": "ValueError",
          "evalue": "Expected 2D array, got 1D array instead:\narray=[5. 2. 3. 4.].\nReshape your data either using array.reshape(-1, 1) if your data has a single feature or array.reshape(1, -1) if it contains a single sample.",
          "output_type": "error",
          "traceback": [
            "\u001b[0;31m---------------------------------------------------------------------------\u001b[0m",
            "\u001b[0;31mValueError\u001b[0m                                Traceback (most recent call last)",
            "\u001b[1;32m/home/qan/Efrei/s9/applications/PROJET_2/reasearch.ipynb Cellule 19\u001b[0m in \u001b[0;36m<cell line: 3>\u001b[0;34m()\u001b[0m\n\u001b[1;32m      <a href='vscode-notebook-cell:/home/qan/Efrei/s9/applications/PROJET_2/reasearch.ipynb#X24sZmlsZQ%3D%3D?line=0'>1</a>\u001b[0m \u001b[39mimport\u001b[39;00m \u001b[39mpandas\u001b[39;00m \u001b[39mas\u001b[39;00m \u001b[39mpd\u001b[39;00m\n\u001b[0;32m----> <a href='vscode-notebook-cell:/home/qan/Efrei/s9/applications/PROJET_2/reasearch.ipynb#X24sZmlsZQ%3D%3D?line=2'>3</a>\u001b[0m result \u001b[39m=\u001b[39m loaded_model\u001b[39m.\u001b[39;49mpredict([\u001b[39m5.\u001b[39;49m, \u001b[39m2.\u001b[39;49m, \u001b[39m3.\u001b[39;49m, \u001b[39m4.\u001b[39;49m])\n\u001b[1;32m      <a href='vscode-notebook-cell:/home/qan/Efrei/s9/applications/PROJET_2/reasearch.ipynb#X24sZmlsZQ%3D%3D?line=3'>4</a>\u001b[0m result\n",
            "File \u001b[0;32m~/.local/lib/python3.8/site-packages/sklearn/ensemble/_forest.py:629\u001b[0m, in \u001b[0;36mForestClassifier.predict\u001b[0;34m(self, X)\u001b[0m\n\u001b[1;32m    608\u001b[0m \u001b[39mdef\u001b[39;00m \u001b[39mpredict\u001b[39m(\u001b[39mself\u001b[39m, X):\n\u001b[1;32m    609\u001b[0m     \u001b[39m\"\"\"\u001b[39;00m\n\u001b[1;32m    610\u001b[0m \u001b[39m    Predict class for X.\u001b[39;00m\n\u001b[1;32m    611\u001b[0m \n\u001b[0;32m   (...)\u001b[0m\n\u001b[1;32m    627\u001b[0m \u001b[39m        The predicted classes.\u001b[39;00m\n\u001b[1;32m    628\u001b[0m \u001b[39m    \"\"\"\u001b[39;00m\n\u001b[0;32m--> 629\u001b[0m     proba \u001b[39m=\u001b[39m \u001b[39mself\u001b[39;49m\u001b[39m.\u001b[39;49mpredict_proba(X)\n\u001b[1;32m    631\u001b[0m     \u001b[39mif\u001b[39;00m \u001b[39mself\u001b[39m\u001b[39m.\u001b[39mn_outputs_ \u001b[39m==\u001b[39m \u001b[39m1\u001b[39m:\n\u001b[1;32m    632\u001b[0m         \u001b[39mreturn\u001b[39;00m \u001b[39mself\u001b[39m\u001b[39m.\u001b[39mclasses_\u001b[39m.\u001b[39mtake(np\u001b[39m.\u001b[39margmax(proba, axis\u001b[39m=\u001b[39m\u001b[39m1\u001b[39m), axis\u001b[39m=\u001b[39m\u001b[39m0\u001b[39m)\n",
            "File \u001b[0;32m~/.local/lib/python3.8/site-packages/sklearn/ensemble/_forest.py:673\u001b[0m, in \u001b[0;36mForestClassifier.predict_proba\u001b[0;34m(self, X)\u001b[0m\n\u001b[1;32m    671\u001b[0m check_is_fitted(\u001b[39mself\u001b[39m)\n\u001b[1;32m    672\u001b[0m \u001b[39m# Check data\u001b[39;00m\n\u001b[0;32m--> 673\u001b[0m X \u001b[39m=\u001b[39m \u001b[39mself\u001b[39;49m\u001b[39m.\u001b[39;49m_validate_X_predict(X)\n\u001b[1;32m    675\u001b[0m \u001b[39m# Assign chunk of trees to jobs\u001b[39;00m\n\u001b[1;32m    676\u001b[0m n_jobs, _, _ \u001b[39m=\u001b[39m _partition_estimators(\u001b[39mself\u001b[39m\u001b[39m.\u001b[39mn_estimators, \u001b[39mself\u001b[39m\u001b[39m.\u001b[39mn_jobs)\n",
            "File \u001b[0;32m~/.local/lib/python3.8/site-packages/sklearn/ensemble/_forest.py:421\u001b[0m, in \u001b[0;36mBaseForest._validate_X_predict\u001b[0;34m(self, X)\u001b[0m\n\u001b[1;32m    417\u001b[0m \u001b[39m\"\"\"\u001b[39;00m\n\u001b[1;32m    418\u001b[0m \u001b[39mValidate X whenever one tries to predict, apply, predict_proba.\"\"\"\u001b[39;00m\n\u001b[1;32m    419\u001b[0m check_is_fitted(\u001b[39mself\u001b[39m)\n\u001b[0;32m--> 421\u001b[0m \u001b[39mreturn\u001b[39;00m \u001b[39mself\u001b[39;49m\u001b[39m.\u001b[39;49mestimators_[\u001b[39m0\u001b[39;49m]\u001b[39m.\u001b[39;49m_validate_X_predict(X, check_input\u001b[39m=\u001b[39;49m\u001b[39mTrue\u001b[39;49;00m)\n",
            "File \u001b[0;32m~/.local/lib/python3.8/site-packages/sklearn/tree/_classes.py:388\u001b[0m, in \u001b[0;36mBaseDecisionTree._validate_X_predict\u001b[0;34m(self, X, check_input)\u001b[0m\n\u001b[1;32m    386\u001b[0m \u001b[39m\"\"\"Validate X whenever one tries to predict, apply, predict_proba\"\"\"\u001b[39;00m\n\u001b[1;32m    387\u001b[0m \u001b[39mif\u001b[39;00m check_input:\n\u001b[0;32m--> 388\u001b[0m     X \u001b[39m=\u001b[39m check_array(X, dtype\u001b[39m=\u001b[39;49mDTYPE, accept_sparse\u001b[39m=\u001b[39;49m\u001b[39m\"\u001b[39;49m\u001b[39mcsr\u001b[39;49m\u001b[39m\"\u001b[39;49m)\n\u001b[1;32m    389\u001b[0m     \u001b[39mif\u001b[39;00m issparse(X) \u001b[39mand\u001b[39;00m (X\u001b[39m.\u001b[39mindices\u001b[39m.\u001b[39mdtype \u001b[39m!=\u001b[39m np\u001b[39m.\u001b[39mintc \u001b[39mor\u001b[39;00m\n\u001b[1;32m    390\u001b[0m                         X\u001b[39m.\u001b[39mindptr\u001b[39m.\u001b[39mdtype \u001b[39m!=\u001b[39m np\u001b[39m.\u001b[39mintc):\n\u001b[1;32m    391\u001b[0m         \u001b[39mraise\u001b[39;00m \u001b[39mValueError\u001b[39;00m(\u001b[39m\"\u001b[39m\u001b[39mNo support for np.int64 index based \u001b[39m\u001b[39m\"\u001b[39m\n\u001b[1;32m    392\u001b[0m                          \u001b[39m\"\u001b[39m\u001b[39msparse matrices\u001b[39m\u001b[39m\"\u001b[39m)\n",
            "File \u001b[0;32m~/.local/lib/python3.8/site-packages/sklearn/utils/validation.py:72\u001b[0m, in \u001b[0;36m_deprecate_positional_args.<locals>.inner_f\u001b[0;34m(*args, **kwargs)\u001b[0m\n\u001b[1;32m     67\u001b[0m     warnings\u001b[39m.\u001b[39mwarn(\u001b[39m\"\u001b[39m\u001b[39mPass \u001b[39m\u001b[39m{}\u001b[39;00m\u001b[39m as keyword args. From version 0.25 \u001b[39m\u001b[39m\"\u001b[39m\n\u001b[1;32m     68\u001b[0m                   \u001b[39m\"\u001b[39m\u001b[39mpassing these as positional arguments will \u001b[39m\u001b[39m\"\u001b[39m\n\u001b[1;32m     69\u001b[0m                   \u001b[39m\"\u001b[39m\u001b[39mresult in an error\u001b[39m\u001b[39m\"\u001b[39m\u001b[39m.\u001b[39mformat(\u001b[39m\"\u001b[39m\u001b[39m, \u001b[39m\u001b[39m\"\u001b[39m\u001b[39m.\u001b[39mjoin(args_msg)),\n\u001b[1;32m     70\u001b[0m                   \u001b[39mFutureWarning\u001b[39;00m)\n\u001b[1;32m     71\u001b[0m kwargs\u001b[39m.\u001b[39mupdate({k: arg \u001b[39mfor\u001b[39;00m k, arg \u001b[39min\u001b[39;00m \u001b[39mzip\u001b[39m(sig\u001b[39m.\u001b[39mparameters, args)})\n\u001b[0;32m---> 72\u001b[0m \u001b[39mreturn\u001b[39;00m f(\u001b[39m*\u001b[39;49m\u001b[39m*\u001b[39;49mkwargs)\n",
            "File \u001b[0;32m~/.local/lib/python3.8/site-packages/sklearn/utils/validation.py:619\u001b[0m, in \u001b[0;36mcheck_array\u001b[0;34m(array, accept_sparse, accept_large_sparse, dtype, order, copy, force_all_finite, ensure_2d, allow_nd, ensure_min_samples, ensure_min_features, estimator)\u001b[0m\n\u001b[1;32m    617\u001b[0m     \u001b[39m# If input is 1D raise error\u001b[39;00m\n\u001b[1;32m    618\u001b[0m     \u001b[39mif\u001b[39;00m array\u001b[39m.\u001b[39mndim \u001b[39m==\u001b[39m \u001b[39m1\u001b[39m:\n\u001b[0;32m--> 619\u001b[0m         \u001b[39mraise\u001b[39;00m \u001b[39mValueError\u001b[39;00m(\n\u001b[1;32m    620\u001b[0m             \u001b[39m\"\u001b[39m\u001b[39mExpected 2D array, got 1D array instead:\u001b[39m\u001b[39m\\n\u001b[39;00m\u001b[39marray=\u001b[39m\u001b[39m{}\u001b[39;00m\u001b[39m.\u001b[39m\u001b[39m\\n\u001b[39;00m\u001b[39m\"\u001b[39m\n\u001b[1;32m    621\u001b[0m             \u001b[39m\"\u001b[39m\u001b[39mReshape your data either using array.reshape(-1, 1) if \u001b[39m\u001b[39m\"\u001b[39m\n\u001b[1;32m    622\u001b[0m             \u001b[39m\"\u001b[39m\u001b[39myour data has a single feature or array.reshape(1, -1) \u001b[39m\u001b[39m\"\u001b[39m\n\u001b[1;32m    623\u001b[0m             \u001b[39m\"\u001b[39m\u001b[39mif it contains a single sample.\u001b[39m\u001b[39m\"\u001b[39m\u001b[39m.\u001b[39mformat(array))\n\u001b[1;32m    625\u001b[0m \u001b[39m# in the future np.flexible dtypes will be handled like object dtypes\u001b[39;00m\n\u001b[1;32m    626\u001b[0m \u001b[39mif\u001b[39;00m dtype_numeric \u001b[39mand\u001b[39;00m np\u001b[39m.\u001b[39missubdtype(array\u001b[39m.\u001b[39mdtype, np\u001b[39m.\u001b[39mflexible):\n",
            "\u001b[0;31mValueError\u001b[0m: Expected 2D array, got 1D array instead:\narray=[5. 2. 3. 4.].\nReshape your data either using array.reshape(-1, 1) if your data has a single feature or array.reshape(1, -1) if it contains a single sample."
          ]
        }
      ],
      "source": [
        "import pandas as pd\n",
        "\n",
        "result = loaded_model.predict(np.array([5., 2., 3., 4.]))\n",
        "result"
      ]
    },
    {
      "cell_type": "code",
      "execution_count": null,
      "metadata": {
        "id": "SehkZdqQZZJF",
        "outputId": "eb7825b9-4dd6-4b09-f2c4-0a89cea13081"
      },
      "outputs": [
        {
          "data": {
            "text/plain": [
              "array([6.1, 2.8, 4.7, 1.2, 1. ])"
            ]
          },
          "execution_count": 61,
          "metadata": {},
          "output_type": "execute_result"
        }
      ],
      "source": [
        "test.iloc[0].values"
      ]
    },
    {
      "cell_type": "code",
      "execution_count": null,
      "metadata": {
        "id": "Sy_pHd2RZZJG"
      },
      "outputs": [],
      "source": []
    }
  ],
  "metadata": {
    "colab": {
      "provenance": []
    },
    "kernelspec": {
      "display_name": "Python 3",
      "language": "python",
      "name": "python3"
    },
    "language_info": {
      "codemirror_mode": {
        "name": "ipython",
        "version": 3
      },
      "file_extension": ".py",
      "mimetype": "text/x-python",
      "name": "python",
      "nbconvert_exporter": "python",
      "pygments_lexer": "ipython3",
      "version": "3.9.13"
    },
    "orig_nbformat": 4,
    "vscode": {
      "interpreter": {
        "hash": "53ca681ee8de3b54bf163d1b625454d8007d7c8aeafa791857ff706faaf06eee"
      }
    }
  },
  "nbformat": 4,
  "nbformat_minor": 0
}
